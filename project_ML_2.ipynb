{
 "cells": [
  {
   "cell_type": "markdown",
   "metadata": {
    "toc": true
   },
   "source": [
    "<h1>Содержание<span class=\"tocSkip\"></span></h1>\n",
    "<div class=\"toc\"><ul class=\"toc-item\"><li><span><a href=\"#Подготовка-данных\" data-toc-modified-id=\"Подготовка-данных-1\"><span class=\"toc-item-num\">1&nbsp;&nbsp;</span>Подготовка данных</a></span><ul class=\"toc-item\"><li><ul class=\"toc-item\"><li><span><a href=\"#Имеются-пропуски-в-столбце-'Tenure'--сколько-лет-человек-являтся-клиентом-банка.\" data-toc-modified-id=\"Имеются-пропуски-в-столбце-'Tenure'--сколько-лет-человек-являтся-клиентом-банка.-1.0.1\"><span class=\"toc-item-num\">1.0.1&nbsp;&nbsp;</span>Имеются пропуски в столбце 'Tenure'- сколько лет человек являтся клиентом банка.</a></span></li></ul></li></ul></li><li><span><a href=\"#Исследование-задачи\" data-toc-modified-id=\"Исследование-задачи-2\"><span class=\"toc-item-num\">2&nbsp;&nbsp;</span>Исследование задачи</a></span><ul class=\"toc-item\"><li><ul class=\"toc-item\"><li><span><a href=\"#Применим-&quot;One-hot-encoding&quot;-для-преобразования-категориальных-данных.\" data-toc-modified-id=\"Применим-&quot;One-hot-encoding&quot;-для-преобразования-категориальных-данных.-2.0.1\"><span class=\"toc-item-num\">2.0.1&nbsp;&nbsp;</span>Применим \"One hot encoding\" для преобразования категориальных данных.</a></span></li><li><span><a href=\"#Выделим-целевой-признак-и-признаки,по-которым-будем-делать-прогноз-этого-признака.\" data-toc-modified-id=\"Выделим-целевой-признак-и-признаки,по-которым-будем-делать-прогноз-этого-признака.-2.0.2\"><span class=\"toc-item-num\">2.0.2&nbsp;&nbsp;</span>Выделим целевой признак и признаки,по которым будем делать прогноз этого признака.</a></span></li><li><span><a href=\"#Разобьем-наши-данные-на-тестовую,-валидационную-и-тренировочную-выборки-в-соотношении-3:1:1.\" data-toc-modified-id=\"Разобьем-наши-данные-на-тестовую,-валидационную-и-тренировочную-выборки-в-соотношении-3:1:1.-2.0.3\"><span class=\"toc-item-num\">2.0.3&nbsp;&nbsp;</span>Разобьем наши данные на тестовую, валидационную и тренировочную выборки в соотношении 3:1:1.</a></span></li><li><span><a href=\"#Произведем-масштабирование-количетсвенных-переменных.\" data-toc-modified-id=\"Произведем-масштабирование-количетсвенных-переменных.-2.0.4\"><span class=\"toc-item-num\">2.0.4&nbsp;&nbsp;</span>Произведем масштабирование количетсвенных переменных.</a></span></li><li><span><a href=\"#С-помощью-модели-&quot;Desicion-Tree&quot;-посчитаем-метрики-F1-и-ROC-AUC-без-учета-дисбаланса-классов-в-целевом-признаке.\" data-toc-modified-id=\"С-помощью-модели-&quot;Desicion-Tree&quot;-посчитаем-метрики-F1-и-ROC-AUC-без-учета-дисбаланса-классов-в-целевом-признаке.-2.0.5\"><span class=\"toc-item-num\">2.0.5&nbsp;&nbsp;</span>С помощью модели \"Desicion Tree\" посчитаем метрики F1 и ROC-AUC без учета дисбаланса классов в целевом признаке.</a></span></li></ul></li></ul></li><li><span><a href=\"#Борьба-с-дисбалансом\" data-toc-modified-id=\"Борьба-с-дисбалансом-3\"><span class=\"toc-item-num\">3&nbsp;&nbsp;</span>Борьба с дисбалансом<br></a></span><ul class=\"toc-item\"><li><ul class=\"toc-item\"><li><span><a href=\"#Увеличение/уменьшение-числа--выборки.\" data-toc-modified-id=\"Увеличение/уменьшение-числа--выборки.-3.0.1\"><span class=\"toc-item-num\">3.0.1&nbsp;&nbsp;</span>Увеличение/уменьшение числа  выборки.</a></span></li></ul></li><li><span><a href=\"#Decision-Tree\" data-toc-modified-id=\"Decision-Tree-3.1\"><span class=\"toc-item-num\">3.1&nbsp;&nbsp;</span>Decision Tree</a></span><ul class=\"toc-item\"><li><span><a href=\"#Перейдем-к-изучению-другой-модели.\" data-toc-modified-id=\"Перейдем-к-изучению-другой-модели.-3.1.1\"><span class=\"toc-item-num\">3.1.1&nbsp;&nbsp;</span>Перейдем к изучению другой модели.</a></span></li></ul></li><li><span><a href=\"#Random-Forest\" data-toc-modified-id=\"Random-Forest-3.2\"><span class=\"toc-item-num\">3.2&nbsp;&nbsp;</span>Random Forest</a></span><ul class=\"toc-item\"><li><span><a href=\"#Для-сравнения-посмотрим-метрики,которые-покажет-модель-лигистической-регрессии.\" data-toc-modified-id=\"Для-сравнения-посмотрим-метрики,которые-покажет-модель-лигистической-регрессии.-3.2.1\"><span class=\"toc-item-num\">3.2.1&nbsp;&nbsp;</span>Для сравнения посмотрим метрики,которые покажет модель лигистической регрессии.</a></span></li><li><span><a href=\"#Остановимся-на-модели-Decision-Tree-как-на-основной-и-посмотрим-какие-метрики-она-покажет-при-других-способах-борьбы-с-дисбалансом-классов.\" data-toc-modified-id=\"Остановимся-на-модели-Decision-Tree-как-на-основной-и-посмотрим-какие-метрики-она-покажет-при-других-способах-борьбы-с-дисбалансом-классов.-3.2.2\"><span class=\"toc-item-num\">3.2.2&nbsp;&nbsp;</span>Остановимся на модели Decision Tree как на основной и посмотрим какие метрики она покажет при других способах борьбы с дисбалансом классов.</a></span></li></ul></li><li><span><a href=\"#Борьба-с-дисбалансом\" data-toc-modified-id=\"Борьба-с-дисбалансом-3.3\"><span class=\"toc-item-num\">3.3&nbsp;&nbsp;</span>Борьба с дисбалансом<br></a></span><ul class=\"toc-item\"><li><span><a href=\"#class_weight='balanced'\" data-toc-modified-id=\"class_weight='balanced'-3.3.1\"><span class=\"toc-item-num\">3.3.1&nbsp;&nbsp;</span>class_weight='balanced'</a></span></li><li><span><a href=\"#Random-Forest\" data-toc-modified-id=\"Random-Forest-3.3.2\"><span class=\"toc-item-num\">3.3.2&nbsp;&nbsp;</span>Random Forest</a></span></li><li><span><a href=\"#Борьба-с-дисбалансом-классов.\" data-toc-modified-id=\"Борьба-с-дисбалансом-классов.-3.3.3\"><span class=\"toc-item-num\">3.3.3&nbsp;&nbsp;</span>Борьба с дисбалансом классов.<br></a></span></li><li><span><a href=\"#Использование-библиотеки-imblearn\" data-toc-modified-id=\"Использование-библиотеки-imblearn-3.3.4\"><span class=\"toc-item-num\">3.3.4&nbsp;&nbsp;</span>Использование библиотеки imblearn</a></span></li></ul></li><li><span><a href=\"#Random-Forest\" data-toc-modified-id=\"Random-Forest-3.4\"><span class=\"toc-item-num\">3.4&nbsp;&nbsp;</span>Random Forest</a></span></li></ul></li><li><span><a href=\"#Тестирование-модели\" data-toc-modified-id=\"Тестирование-модели-4\"><span class=\"toc-item-num\">4&nbsp;&nbsp;</span>Тестирование модели</a></span></li><li><span><a href=\"#Чек-лист-готовности-проекта\" data-toc-modified-id=\"Чек-лист-готовности-проекта-5\"><span class=\"toc-item-num\">5&nbsp;&nbsp;</span>Чек-лист готовности проекта</a></span></li></ul></div>"
   ]
  },
  {
   "cell_type": "markdown",
   "metadata": {},
   "source": [
    "# Отток клиентов"
   ]
  },
  {
   "cell_type": "markdown",
   "metadata": {},
   "source": [
    "Из «Бета-Банка» стали уходить клиенты. Каждый месяц. Немного, но заметно. Банковские маркетологи посчитали: сохранять текущих клиентов дешевле, чем привлекать новых.\n",
    "\n",
    "Нужно спрогнозировать, уйдёт клиент из банка в ближайшее время или нет. Вам предоставлены исторические данные о поведении клиентов и расторжении договоров с банком. \n",
    "\n",
    "Постройте модель с предельно большим значением *F1*-меры. Чтобы сдать проект успешно, нужно довести метрику до 0.59. Проверьте *F1*-меру на тестовой выборке самостоятельно.\n",
    "\n",
    "Дополнительно измеряйте *AUC-ROC*, сравнивайте её значение с *F1*-мерой.\n",
    "\n",
    "Источник данных: [https://www.kaggle.com/barelydedicated/bank-customer-churn-modeling](https://www.kaggle.com/barelydedicated/bank-customer-churn-modeling)"
   ]
  },
  {
   "cell_type": "markdown",
   "metadata": {},
   "source": [
    "## Подготовка данных"
   ]
  },
  {
   "cell_type": "code",
   "execution_count": 52,
   "metadata": {},
   "outputs": [],
   "source": [
    "# импортируем все необходимые для дальнейшей работы библиотеки\n",
    "import pandas as pd\n",
    "import numpy as np\n",
    "from sklearn.tree import DecisionTreeClassifier \n",
    "from sklearn.metrics import accuracy_score,recall_score,f1_score,precision_score,roc_auc_score,confusion_matrix\n",
    "from sklearn.ensemble import RandomForestClassifier\n",
    "from sklearn.linear_model import LogisticRegression\n",
    "from sklearn.model_selection import train_test_split,GridSearchCV,cross_val_score\n",
    "from sklearn.preprocessing import StandardScaler\n",
    "import seaborn as sns\n",
    "import pandas as pd\n",
    "from sklearn.utils import shuffle\n",
    "import matplotlib.pyplot as plt\n",
    "\n"
   ]
  },
  {
   "cell_type": "code",
   "execution_count": 53,
   "metadata": {},
   "outputs": [],
   "source": [
    "pd.options.mode.chained_assignment=None"
   ]
  },
  {
   "cell_type": "code",
   "execution_count": 54,
   "metadata": {},
   "outputs": [],
   "source": [
    "try:\n",
    "    df=pd.read_csv('/datasets/Churn.csv')\n",
    "except:\n",
    "    df=pd.read_csv(r'C:\\Users\\pulka\\git-project\\Churn.csv')"
   ]
  },
  {
   "cell_type": "code",
   "execution_count": 55,
   "metadata": {},
   "outputs": [
    {
     "name": "stdout",
     "output_type": "stream",
     "text": [
      "<class 'pandas.core.frame.DataFrame'>\n",
      "RangeIndex: 10000 entries, 0 to 9999\n",
      "Data columns (total 14 columns):\n",
      " #   Column           Non-Null Count  Dtype  \n",
      "---  ------           --------------  -----  \n",
      " 0   RowNumber        10000 non-null  int64  \n",
      " 1   CustomerId       10000 non-null  int64  \n",
      " 2   Surname          10000 non-null  object \n",
      " 3   CreditScore      10000 non-null  int64  \n",
      " 4   Geography        10000 non-null  object \n",
      " 5   Gender           10000 non-null  object \n",
      " 6   Age              10000 non-null  int64  \n",
      " 7   Tenure           9091 non-null   float64\n",
      " 8   Balance          10000 non-null  float64\n",
      " 9   NumOfProducts    10000 non-null  int64  \n",
      " 10  HasCrCard        10000 non-null  int64  \n",
      " 11  IsActiveMember   10000 non-null  int64  \n",
      " 12  EstimatedSalary  10000 non-null  float64\n",
      " 13  Exited           10000 non-null  int64  \n",
      "dtypes: float64(3), int64(8), object(3)\n",
      "memory usage: 1.1+ MB\n"
     ]
    }
   ],
   "source": [
    "df.info()"
   ]
  },
  {
   "cell_type": "code",
   "execution_count": 56,
   "metadata": {},
   "outputs": [
    {
     "data": {
      "text/html": [
       "<div>\n",
       "<style scoped>\n",
       "    .dataframe tbody tr th:only-of-type {\n",
       "        vertical-align: middle;\n",
       "    }\n",
       "\n",
       "    .dataframe tbody tr th {\n",
       "        vertical-align: top;\n",
       "    }\n",
       "\n",
       "    .dataframe thead th {\n",
       "        text-align: right;\n",
       "    }\n",
       "</style>\n",
       "<table border=\"1\" class=\"dataframe\">\n",
       "  <thead>\n",
       "    <tr style=\"text-align: right;\">\n",
       "      <th></th>\n",
       "      <th>RowNumber</th>\n",
       "      <th>CustomerId</th>\n",
       "      <th>CreditScore</th>\n",
       "      <th>Age</th>\n",
       "      <th>Tenure</th>\n",
       "      <th>Balance</th>\n",
       "      <th>NumOfProducts</th>\n",
       "      <th>HasCrCard</th>\n",
       "      <th>IsActiveMember</th>\n",
       "      <th>EstimatedSalary</th>\n",
       "      <th>Exited</th>\n",
       "    </tr>\n",
       "  </thead>\n",
       "  <tbody>\n",
       "    <tr>\n",
       "      <th>count</th>\n",
       "      <td>10000.00000</td>\n",
       "      <td>1.000000e+04</td>\n",
       "      <td>10000.000000</td>\n",
       "      <td>10000.000000</td>\n",
       "      <td>9091.000000</td>\n",
       "      <td>10000.000000</td>\n",
       "      <td>10000.000000</td>\n",
       "      <td>10000.00000</td>\n",
       "      <td>10000.000000</td>\n",
       "      <td>10000.000000</td>\n",
       "      <td>10000.000000</td>\n",
       "    </tr>\n",
       "    <tr>\n",
       "      <th>mean</th>\n",
       "      <td>5000.50000</td>\n",
       "      <td>1.569094e+07</td>\n",
       "      <td>650.528800</td>\n",
       "      <td>38.921800</td>\n",
       "      <td>4.997690</td>\n",
       "      <td>76485.889288</td>\n",
       "      <td>1.530200</td>\n",
       "      <td>0.70550</td>\n",
       "      <td>0.515100</td>\n",
       "      <td>100090.239881</td>\n",
       "      <td>0.203700</td>\n",
       "    </tr>\n",
       "    <tr>\n",
       "      <th>std</th>\n",
       "      <td>2886.89568</td>\n",
       "      <td>7.193619e+04</td>\n",
       "      <td>96.653299</td>\n",
       "      <td>10.487806</td>\n",
       "      <td>2.894723</td>\n",
       "      <td>62397.405202</td>\n",
       "      <td>0.581654</td>\n",
       "      <td>0.45584</td>\n",
       "      <td>0.499797</td>\n",
       "      <td>57510.492818</td>\n",
       "      <td>0.402769</td>\n",
       "    </tr>\n",
       "    <tr>\n",
       "      <th>min</th>\n",
       "      <td>1.00000</td>\n",
       "      <td>1.556570e+07</td>\n",
       "      <td>350.000000</td>\n",
       "      <td>18.000000</td>\n",
       "      <td>0.000000</td>\n",
       "      <td>0.000000</td>\n",
       "      <td>1.000000</td>\n",
       "      <td>0.00000</td>\n",
       "      <td>0.000000</td>\n",
       "      <td>11.580000</td>\n",
       "      <td>0.000000</td>\n",
       "    </tr>\n",
       "    <tr>\n",
       "      <th>25%</th>\n",
       "      <td>2500.75000</td>\n",
       "      <td>1.562853e+07</td>\n",
       "      <td>584.000000</td>\n",
       "      <td>32.000000</td>\n",
       "      <td>2.000000</td>\n",
       "      <td>0.000000</td>\n",
       "      <td>1.000000</td>\n",
       "      <td>0.00000</td>\n",
       "      <td>0.000000</td>\n",
       "      <td>51002.110000</td>\n",
       "      <td>0.000000</td>\n",
       "    </tr>\n",
       "    <tr>\n",
       "      <th>50%</th>\n",
       "      <td>5000.50000</td>\n",
       "      <td>1.569074e+07</td>\n",
       "      <td>652.000000</td>\n",
       "      <td>37.000000</td>\n",
       "      <td>5.000000</td>\n",
       "      <td>97198.540000</td>\n",
       "      <td>1.000000</td>\n",
       "      <td>1.00000</td>\n",
       "      <td>1.000000</td>\n",
       "      <td>100193.915000</td>\n",
       "      <td>0.000000</td>\n",
       "    </tr>\n",
       "    <tr>\n",
       "      <th>75%</th>\n",
       "      <td>7500.25000</td>\n",
       "      <td>1.575323e+07</td>\n",
       "      <td>718.000000</td>\n",
       "      <td>44.000000</td>\n",
       "      <td>7.000000</td>\n",
       "      <td>127644.240000</td>\n",
       "      <td>2.000000</td>\n",
       "      <td>1.00000</td>\n",
       "      <td>1.000000</td>\n",
       "      <td>149388.247500</td>\n",
       "      <td>0.000000</td>\n",
       "    </tr>\n",
       "    <tr>\n",
       "      <th>max</th>\n",
       "      <td>10000.00000</td>\n",
       "      <td>1.581569e+07</td>\n",
       "      <td>850.000000</td>\n",
       "      <td>92.000000</td>\n",
       "      <td>10.000000</td>\n",
       "      <td>250898.090000</td>\n",
       "      <td>4.000000</td>\n",
       "      <td>1.00000</td>\n",
       "      <td>1.000000</td>\n",
       "      <td>199992.480000</td>\n",
       "      <td>1.000000</td>\n",
       "    </tr>\n",
       "  </tbody>\n",
       "</table>\n",
       "</div>"
      ],
      "text/plain": [
       "         RowNumber    CustomerId   CreditScore           Age       Tenure  \\\n",
       "count  10000.00000  1.000000e+04  10000.000000  10000.000000  9091.000000   \n",
       "mean    5000.50000  1.569094e+07    650.528800     38.921800     4.997690   \n",
       "std     2886.89568  7.193619e+04     96.653299     10.487806     2.894723   \n",
       "min        1.00000  1.556570e+07    350.000000     18.000000     0.000000   \n",
       "25%     2500.75000  1.562853e+07    584.000000     32.000000     2.000000   \n",
       "50%     5000.50000  1.569074e+07    652.000000     37.000000     5.000000   \n",
       "75%     7500.25000  1.575323e+07    718.000000     44.000000     7.000000   \n",
       "max    10000.00000  1.581569e+07    850.000000     92.000000    10.000000   \n",
       "\n",
       "             Balance  NumOfProducts    HasCrCard  IsActiveMember  \\\n",
       "count   10000.000000   10000.000000  10000.00000    10000.000000   \n",
       "mean    76485.889288       1.530200      0.70550        0.515100   \n",
       "std     62397.405202       0.581654      0.45584        0.499797   \n",
       "min         0.000000       1.000000      0.00000        0.000000   \n",
       "25%         0.000000       1.000000      0.00000        0.000000   \n",
       "50%     97198.540000       1.000000      1.00000        1.000000   \n",
       "75%    127644.240000       2.000000      1.00000        1.000000   \n",
       "max    250898.090000       4.000000      1.00000        1.000000   \n",
       "\n",
       "       EstimatedSalary        Exited  \n",
       "count     10000.000000  10000.000000  \n",
       "mean     100090.239881      0.203700  \n",
       "std       57510.492818      0.402769  \n",
       "min          11.580000      0.000000  \n",
       "25%       51002.110000      0.000000  \n",
       "50%      100193.915000      0.000000  \n",
       "75%      149388.247500      0.000000  \n",
       "max      199992.480000      1.000000  "
      ]
     },
     "execution_count": 56,
     "metadata": {},
     "output_type": "execute_result"
    }
   ],
   "source": [
    "df.describe()"
   ]
  },
  {
   "cell_type": "code",
   "execution_count": 57,
   "metadata": {},
   "outputs": [
    {
     "data": {
      "image/png": "[encoded data removed]",
      "text/plain": [
       "<Figure size 640x480 with 1 Axes>"
      ]
     },
     "metadata": {},
     "output_type": "display_data"
    }
   ],
   "source": [
    "df.CreditScore.hist();"
   ]
  },
  {
   "cell_type": "code",
   "execution_count": 58,
   "metadata": {},
   "outputs": [
    {
     "data": {
      "image/png": "[encoded data removed]",
      "text/plain": [
       "<Figure size 640x480 with 1 Axes>"
      ]
     },
     "metadata": {},
     "output_type": "display_data"
    }
   ],
   "source": [
    "df.Age.hist();"
   ]
  },
  {
   "cell_type": "code",
   "execution_count": 59,
   "metadata": {},
   "outputs": [
    {
     "data": {
      "image/png": "[encoded data removed]",
      "text/plain": [
       "<Figure size 640x480 with 1 Axes>"
      ]
     },
     "metadata": {},
     "output_type": "display_data"
    }
   ],
   "source": [
    "df.Tenure.hist();"
   ]
  },
  {
   "cell_type": "code",
   "execution_count": 60,
   "metadata": {},
   "outputs": [
    {
     "data": {
      "image/png": "[encoded data removed]",
      "text/plain": [
       "<Figure size 640x480 with 1 Axes>"
      ]
     },
     "metadata": {},
     "output_type": "display_data"
    }
   ],
   "source": [
    "df.Balance.hist();"
   ]
  },
  {
   "cell_type": "code",
   "execution_count": 61,
   "metadata": {},
   "outputs": [
    {
     "data": {
      "image/png": "[encoded data removed]",
      "text/plain": [
       "<Figure size 640x480 with 1 Axes>"
      ]
     },
     "metadata": {},
     "output_type": "display_data"
    }
   ],
   "source": [
    "df.EstimatedSalary.hist(bins=50);"
   ]
  },
  {
   "cell_type": "code",
   "execution_count": 62,
   "metadata": {},
   "outputs": [
    {
     "data": {
      "image/png": "[encoded data removed]",
      "text/plain": [
       "<Figure size 640x480 with 1 Axes>"
      ]
     },
     "metadata": {},
     "output_type": "display_data"
    }
   ],
   "source": [
    "df.Exited.hist();"
   ]
  },
  {
   "cell_type": "markdown",
   "metadata": {},
   "source": [
    "#### Имеются пропуски в столбце 'Tenure'- сколько лет человек являтся клиентом банка.           "
   ]
  },
  {
   "cell_type": "code",
   "execution_count": 63,
   "metadata": {},
   "outputs": [
    {
     "name": "stdout",
     "output_type": "stream",
     "text": [
      "Пропусков в столбце Tenure: 9.09 %\n"
     ]
    }
   ],
   "source": [
    "print('Пропусков в столбце Tenure:',df['Tenure'].isna().mean()*100,'%')"
   ]
  },
  {
   "cell_type": "code",
   "execution_count": 64,
   "metadata": {},
   "outputs": [
    {
     "data": {
      "text/plain": [
       "Tenure             1.000000\n",
       "IsActiveMember     0.032178\n",
       "HasCrCard          0.027232\n",
       "CustomerId         0.021418\n",
       "Exited             0.016761\n",
       "Age                0.013134\n",
       "NumOfProducts      0.011979\n",
       "EstimatedSalary    0.010520\n",
       "Balance            0.007911\n",
       "RowNumber          0.007322\n",
       "CreditScore        0.000062\n",
       "Name: Tenure, dtype: float64"
      ]
     },
     "execution_count": 64,
     "metadata": {},
     "output_type": "execute_result"
    }
   ],
   "source": [
    "abs(df.corr()['Tenure']).sort_values(ascending=False)"
   ]
  },
  {
   "cell_type": "code",
   "execution_count": 65,
   "metadata": {},
   "outputs": [
    {
     "data": {
      "text/plain": [
       "IsActiveMember\n",
       "0    5.093778\n",
       "1    4.907403\n",
       "Name: Tenure, dtype: float64"
      ]
     },
     "execution_count": 65,
     "metadata": {},
     "output_type": "execute_result"
    }
   ],
   "source": [
    "df.groupby('IsActiveMember')['Tenure'].mean()"
   ]
  },
  {
   "cell_type": "code",
   "execution_count": 66,
   "metadata": {},
   "outputs": [],
   "source": [
    "df['Tenure']=df['Tenure'].fillna(df.groupby('IsActiveMember')['Tenure'].transform('mean'))"
   ]
  },
  {
   "cell_type": "code",
   "execution_count": 67,
   "metadata": {},
   "outputs": [
    {
     "data": {
      "text/plain": [
       "0.0"
      ]
     },
     "execution_count": 67,
     "metadata": {},
     "output_type": "execute_result"
    }
   ],
   "source": [
    "df['Tenure'].isna().mean()"
   ]
  },
  {
   "cell_type": "markdown",
   "metadata": {},
   "source": [
    "Заполнили пропуски в столбце Tenure в зависимости от того является ли клиент активным пользователем или нет."
   ]
  },
  {
   "cell_type": "code",
   "execution_count": 68,
   "metadata": {},
   "outputs": [
    {
     "data": {
      "image/png": "[encoded data removed]",
      "text/plain": [
       "<Figure size 640x480 with 1 Axes>"
      ]
     },
     "metadata": {},
     "output_type": "display_data"
    }
   ],
   "source": [
    "df.Tenure.hist();"
   ]
  },
  {
   "cell_type": "markdown",
   "metadata": {},
   "source": [
    "**Распределение переменой из столбца Tenure поменялось, в качестве второго приближения можно удалить пропущенные данные,а не заполнять медианной.**"
   ]
  },
  {
   "cell_type": "markdown",
   "metadata": {},
   "source": [
    "- Признаки :'RowNumber', 'CustomerId', 'Surname' не несут в себе никакой информации для прогноза, оставим только признаки ,по которым можно вести прогноз."
   ]
  },
  {
   "cell_type": "code",
   "execution_count": 69,
   "metadata": {},
   "outputs": [
    {
     "data": {
      "text/plain": [
       "Index(['RowNumber', 'CustomerId', 'Surname', 'CreditScore', 'Geography',\n",
       "       'Gender', 'Age', 'Tenure', 'Balance', 'NumOfProducts', 'HasCrCard',\n",
       "       'IsActiveMember', 'EstimatedSalary', 'Exited'],\n",
       "      dtype='object')"
      ]
     },
     "execution_count": 69,
     "metadata": {},
     "output_type": "execute_result"
    }
   ],
   "source": [
    "df.columns"
   ]
  },
  {
   "cell_type": "code",
   "execution_count": 70,
   "metadata": {},
   "outputs": [],
   "source": [
    "df=df[['CreditScore', 'Geography',\n",
    "       'Gender', 'Age', 'Tenure', 'Balance', 'NumOfProducts', 'HasCrCard',\n",
    "       'IsActiveMember', 'EstimatedSalary', 'Exited']]"
   ]
  },
  {
   "cell_type": "markdown",
   "metadata": {},
   "source": [
    "## Исследование задачи"
   ]
  },
  {
   "cell_type": "markdown",
   "metadata": {},
   "source": [
    "#### Применим \"One hot encoding\" для преобразования категориальных данных."
   ]
  },
  {
   "cell_type": "code",
   "execution_count": 71,
   "metadata": {},
   "outputs": [
    {
     "data": {
      "text/html": [
       "<div>\n",
       "<style scoped>\n",
       "    .dataframe tbody tr th:only-of-type {\n",
       "        vertical-align: middle;\n",
       "    }\n",
       "\n",
       "    .dataframe tbody tr th {\n",
       "        vertical-align: top;\n",
       "    }\n",
       "\n",
       "    .dataframe thead th {\n",
       "        text-align: right;\n",
       "    }\n",
       "</style>\n",
       "<table border=\"1\" class=\"dataframe\">\n",
       "  <thead>\n",
       "    <tr style=\"text-align: right;\">\n",
       "      <th></th>\n",
       "      <th>CreditScore</th>\n",
       "      <th>Geography</th>\n",
       "      <th>Gender</th>\n",
       "      <th>Age</th>\n",
       "      <th>Tenure</th>\n",
       "      <th>Balance</th>\n",
       "      <th>NumOfProducts</th>\n",
       "      <th>HasCrCard</th>\n",
       "      <th>IsActiveMember</th>\n",
       "      <th>EstimatedSalary</th>\n",
       "      <th>Exited</th>\n",
       "    </tr>\n",
       "  </thead>\n",
       "  <tbody>\n",
       "    <tr>\n",
       "      <th>0</th>\n",
       "      <td>619</td>\n",
       "      <td>France</td>\n",
       "      <td>Female</td>\n",
       "      <td>42</td>\n",
       "      <td>2.0</td>\n",
       "      <td>0.00</td>\n",
       "      <td>1</td>\n",
       "      <td>1</td>\n",
       "      <td>1</td>\n",
       "      <td>101348.88</td>\n",
       "      <td>1</td>\n",
       "    </tr>\n",
       "    <tr>\n",
       "      <th>1</th>\n",
       "      <td>608</td>\n",
       "      <td>Spain</td>\n",
       "      <td>Female</td>\n",
       "      <td>41</td>\n",
       "      <td>1.0</td>\n",
       "      <td>83807.86</td>\n",
       "      <td>1</td>\n",
       "      <td>0</td>\n",
       "      <td>1</td>\n",
       "      <td>112542.58</td>\n",
       "      <td>0</td>\n",
       "    </tr>\n",
       "    <tr>\n",
       "      <th>2</th>\n",
       "      <td>502</td>\n",
       "      <td>France</td>\n",
       "      <td>Female</td>\n",
       "      <td>42</td>\n",
       "      <td>8.0</td>\n",
       "      <td>159660.80</td>\n",
       "      <td>3</td>\n",
       "      <td>1</td>\n",
       "      <td>0</td>\n",
       "      <td>113931.57</td>\n",
       "      <td>1</td>\n",
       "    </tr>\n",
       "    <tr>\n",
       "      <th>3</th>\n",
       "      <td>699</td>\n",
       "      <td>France</td>\n",
       "      <td>Female</td>\n",
       "      <td>39</td>\n",
       "      <td>1.0</td>\n",
       "      <td>0.00</td>\n",
       "      <td>2</td>\n",
       "      <td>0</td>\n",
       "      <td>0</td>\n",
       "      <td>93826.63</td>\n",
       "      <td>0</td>\n",
       "    </tr>\n",
       "    <tr>\n",
       "      <th>4</th>\n",
       "      <td>850</td>\n",
       "      <td>Spain</td>\n",
       "      <td>Female</td>\n",
       "      <td>43</td>\n",
       "      <td>2.0</td>\n",
       "      <td>125510.82</td>\n",
       "      <td>1</td>\n",
       "      <td>1</td>\n",
       "      <td>1</td>\n",
       "      <td>79084.10</td>\n",
       "      <td>0</td>\n",
       "    </tr>\n",
       "  </tbody>\n",
       "</table>\n",
       "</div>"
      ],
      "text/plain": [
       "   CreditScore Geography  Gender  Age  Tenure    Balance  NumOfProducts  \\\n",
       "0          619    France  Female   42     2.0       0.00              1   \n",
       "1          608     Spain  Female   41     1.0   83807.86              1   \n",
       "2          502    France  Female   42     8.0  159660.80              3   \n",
       "3          699    France  Female   39     1.0       0.00              2   \n",
       "4          850     Spain  Female   43     2.0  125510.82              1   \n",
       "\n",
       "   HasCrCard  IsActiveMember  EstimatedSalary  Exited  \n",
       "0          1               1        101348.88       1  \n",
       "1          0               1        112542.58       0  \n",
       "2          1               0        113931.57       1  \n",
       "3          0               0         93826.63       0  \n",
       "4          1               1         79084.10       0  "
      ]
     },
     "execution_count": 71,
     "metadata": {},
     "output_type": "execute_result"
    }
   ],
   "source": [
    "df.head()"
   ]
  },
  {
   "cell_type": "code",
   "execution_count": 72,
   "metadata": {},
   "outputs": [
    {
     "data": {
      "text/plain": [
       "France     5014\n",
       "Germany    2509\n",
       "Spain      2477\n",
       "Name: Geography, dtype: int64"
      ]
     },
     "execution_count": 72,
     "metadata": {},
     "output_type": "execute_result"
    }
   ],
   "source": [
    "df.Geography.value_counts()"
   ]
  },
  {
   "cell_type": "code",
   "execution_count": 73,
   "metadata": {},
   "outputs": [],
   "source": [
    "df=pd.get_dummies(df,drop_first=True)"
   ]
  },
  {
   "cell_type": "code",
   "execution_count": 74,
   "metadata": {},
   "outputs": [
    {
     "data": {
      "text/html": [
       "<div>\n",
       "<style scoped>\n",
       "    .dataframe tbody tr th:only-of-type {\n",
       "        vertical-align: middle;\n",
       "    }\n",
       "\n",
       "    .dataframe tbody tr th {\n",
       "        vertical-align: top;\n",
       "    }\n",
       "\n",
       "    .dataframe thead th {\n",
       "        text-align: right;\n",
       "    }\n",
       "</style>\n",
       "<table border=\"1\" class=\"dataframe\">\n",
       "  <thead>\n",
       "    <tr style=\"text-align: right;\">\n",
       "      <th></th>\n",
       "      <th>CreditScore</th>\n",
       "      <th>Age</th>\n",
       "      <th>Tenure</th>\n",
       "      <th>Balance</th>\n",
       "      <th>NumOfProducts</th>\n",
       "      <th>HasCrCard</th>\n",
       "      <th>IsActiveMember</th>\n",
       "      <th>EstimatedSalary</th>\n",
       "      <th>Exited</th>\n",
       "      <th>Geography_Germany</th>\n",
       "      <th>Geography_Spain</th>\n",
       "      <th>Gender_Male</th>\n",
       "    </tr>\n",
       "  </thead>\n",
       "  <tbody>\n",
       "    <tr>\n",
       "      <th>0</th>\n",
       "      <td>619</td>\n",
       "      <td>42</td>\n",
       "      <td>2.0</td>\n",
       "      <td>0.00</td>\n",
       "      <td>1</td>\n",
       "      <td>1</td>\n",
       "      <td>1</td>\n",
       "      <td>101348.88</td>\n",
       "      <td>1</td>\n",
       "      <td>0</td>\n",
       "      <td>0</td>\n",
       "      <td>0</td>\n",
       "    </tr>\n",
       "    <tr>\n",
       "      <th>1</th>\n",
       "      <td>608</td>\n",
       "      <td>41</td>\n",
       "      <td>1.0</td>\n",
       "      <td>83807.86</td>\n",
       "      <td>1</td>\n",
       "      <td>0</td>\n",
       "      <td>1</td>\n",
       "      <td>112542.58</td>\n",
       "      <td>0</td>\n",
       "      <td>0</td>\n",
       "      <td>1</td>\n",
       "      <td>0</td>\n",
       "    </tr>\n",
       "    <tr>\n",
       "      <th>2</th>\n",
       "      <td>502</td>\n",
       "      <td>42</td>\n",
       "      <td>8.0</td>\n",
       "      <td>159660.80</td>\n",
       "      <td>3</td>\n",
       "      <td>1</td>\n",
       "      <td>0</td>\n",
       "      <td>113931.57</td>\n",
       "      <td>1</td>\n",
       "      <td>0</td>\n",
       "      <td>0</td>\n",
       "      <td>0</td>\n",
       "    </tr>\n",
       "    <tr>\n",
       "      <th>3</th>\n",
       "      <td>699</td>\n",
       "      <td>39</td>\n",
       "      <td>1.0</td>\n",
       "      <td>0.00</td>\n",
       "      <td>2</td>\n",
       "      <td>0</td>\n",
       "      <td>0</td>\n",
       "      <td>93826.63</td>\n",
       "      <td>0</td>\n",
       "      <td>0</td>\n",
       "      <td>0</td>\n",
       "      <td>0</td>\n",
       "    </tr>\n",
       "    <tr>\n",
       "      <th>4</th>\n",
       "      <td>850</td>\n",
       "      <td>43</td>\n",
       "      <td>2.0</td>\n",
       "      <td>125510.82</td>\n",
       "      <td>1</td>\n",
       "      <td>1</td>\n",
       "      <td>1</td>\n",
       "      <td>79084.10</td>\n",
       "      <td>0</td>\n",
       "      <td>0</td>\n",
       "      <td>1</td>\n",
       "      <td>0</td>\n",
       "    </tr>\n",
       "  </tbody>\n",
       "</table>\n",
       "</div>"
      ],
      "text/plain": [
       "   CreditScore  Age  Tenure    Balance  NumOfProducts  HasCrCard  \\\n",
       "0          619   42     2.0       0.00              1          1   \n",
       "1          608   41     1.0   83807.86              1          0   \n",
       "2          502   42     8.0  159660.80              3          1   \n",
       "3          699   39     1.0       0.00              2          0   \n",
       "4          850   43     2.0  125510.82              1          1   \n",
       "\n",
       "   IsActiveMember  EstimatedSalary  Exited  Geography_Germany  \\\n",
       "0               1        101348.88       1                  0   \n",
       "1               1        112542.58       0                  0   \n",
       "2               0        113931.57       1                  0   \n",
       "3               0         93826.63       0                  0   \n",
       "4               1         79084.10       0                  0   \n",
       "\n",
       "   Geography_Spain  Gender_Male  \n",
       "0                0            0  \n",
       "1                1            0  \n",
       "2                0            0  \n",
       "3                0            0  \n",
       "4                1            0  "
      ]
     },
     "execution_count": 74,
     "metadata": {},
     "output_type": "execute_result"
    }
   ],
   "source": [
    "# Посмотрим результаты преобразования.\n",
    "df.head()"
   ]
  },
  {
   "cell_type": "markdown",
   "metadata": {},
   "source": [
    "#### Выделим целевой признак и признаки,по которым будем делать прогноз этого признака."
   ]
  },
  {
   "cell_type": "code",
   "execution_count": 75,
   "metadata": {},
   "outputs": [],
   "source": [
    "# Признаки,по которым делается прогноз.\n",
    "X=df.drop('Exited',axis=1)"
   ]
  },
  {
   "cell_type": "code",
   "execution_count": 76,
   "metadata": {},
   "outputs": [],
   "source": [
    "# Целевой признак.\n",
    "y=df['Exited']"
   ]
  },
  {
   "cell_type": "markdown",
   "metadata": {},
   "source": [
    "#### Разобьем наши данные на тестовую, валидационную и тренировочную выборки в соотношении 3:1:1. "
   ]
  },
  {
   "cell_type": "code",
   "execution_count": 77,
   "metadata": {},
   "outputs": [],
   "source": [
    "X_train,X_test,y_train,y_test=train_test_split(\n",
    "    X,y,test_size=0.4,random_state=42)"
   ]
  },
  {
   "cell_type": "code",
   "execution_count": 78,
   "metadata": {},
   "outputs": [],
   "source": [
    "X_valid,X_test,y_valid,y_test=train_test_split(\n",
    "    X_test,y_test,test_size=0.5,random_state=42)"
   ]
  },
  {
   "cell_type": "code",
   "execution_count": 79,
   "metadata": {},
   "outputs": [
    {
     "name": "stdout",
     "output_type": "stream",
     "text": [
      "X: (10000, 11)\n",
      "y: (10000,)\n",
      "X_train: (6000, 11)\n",
      "y_train: (6000,)\n",
      "X_test: (2000, 11)\n",
      "y_test: (2000,)\n",
      "X_valid: (2000, 11)\n",
      "y_valid: (2000,)\n"
     ]
    }
   ],
   "source": [
    "# проверка размерности получившихся выборок.\n",
    "print('X:',X.shape)\n",
    "print('y:',y.shape)\n",
    "print('X_train:',X_train.shape)\n",
    "print('y_train:',y_train.shape)\n",
    "print('X_test:',X_test.shape)\n",
    "print('y_test:',y_test.shape)\n",
    "print('X_valid:',X_valid.shape)\n",
    "print('y_valid:',y_valid.shape)"
   ]
  },
  {
   "cell_type": "markdown",
   "metadata": {},
   "source": [
    "#### Произведем масштабирование количетсвенных переменных."
   ]
  },
  {
   "cell_type": "code",
   "execution_count": 80,
   "metadata": {},
   "outputs": [],
   "source": [
    "# Выделяем количественные переменные\n",
    "numeric=['CreditScore','Age','Balance','EstimatedSalary']"
   ]
  },
  {
   "cell_type": "code",
   "execution_count": 81,
   "metadata": {},
   "outputs": [
    {
     "data": {
      "text/html": [
       "<style>#sk-container-id-4 {color: black;background-color: white;}#sk-container-id-4 pre{padding: 0;}#sk-container-id-4 div.sk-toggleable {background-color: white;}#sk-container-id-4 label.sk-toggleable__label {cursor: pointer;display: block;width: 100%;margin-bottom: 0;padding: 0.3em;box-sizing: border-box;text-align: center;}#sk-container-id-4 label.sk-toggleable__label-arrow:before {content: \"▸\";float: left;margin-right: 0.25em;color: #696969;}#sk-container-id-4 label.sk-toggleable__label-arrow:hover:before {color: black;}#sk-container-id-4 div.sk-estimator:hover label.sk-toggleable__label-arrow:before {color: black;}#sk-container-id-4 div.sk-toggleable__content {max-height: 0;max-width: 0;overflow: hidden;text-align: left;background-color: #f0f8ff;}#sk-container-id-4 div.sk-toggleable__content pre {margin: 0.2em;color: black;border-radius: 0.25em;background-color: #f0f8ff;}#sk-container-id-4 input.sk-toggleable__control:checked~div.sk-toggleable__content {max-height: 200px;max-width: 100%;overflow: auto;}#sk-container-id-4 input.sk-toggleable__control:checked~label.sk-toggleable__label-arrow:before {content: \"▾\";}#sk-container-id-4 div.sk-estimator input.sk-toggleable__control:checked~label.sk-toggleable__label {background-color: #d4ebff;}#sk-container-id-4 div.sk-label input.sk-toggleable__control:checked~label.sk-toggleable__label {background-color: #d4ebff;}#sk-container-id-4 input.sk-hidden--visually {border: 0;clip: rect(1px 1px 1px 1px);clip: rect(1px, 1px, 1px, 1px);height: 1px;margin: -1px;overflow: hidden;padding: 0;position: absolute;width: 1px;}#sk-container-id-4 div.sk-estimator {font-family: monospace;background-color: #f0f8ff;border: 1px dotted black;border-radius: 0.25em;box-sizing: border-box;margin-bottom: 0.5em;}#sk-container-id-4 div.sk-estimator:hover {background-color: #d4ebff;}#sk-container-id-4 div.sk-parallel-item::after {content: \"\";width: 100%;border-bottom: 1px solid gray;flex-grow: 1;}#sk-container-id-4 div.sk-label:hover label.sk-toggleable__label {background-color: #d4ebff;}#sk-container-id-4 div.sk-serial::before {content: \"\";position: absolute;border-left: 1px solid gray;box-sizing: border-box;top: 0;bottom: 0;left: 50%;z-index: 0;}#sk-container-id-4 div.sk-serial {display: flex;flex-direction: column;align-items: center;background-color: white;padding-right: 0.2em;padding-left: 0.2em;position: relative;}#sk-container-id-4 div.sk-item {position: relative;z-index: 1;}#sk-container-id-4 div.sk-parallel {display: flex;align-items: stretch;justify-content: center;background-color: white;position: relative;}#sk-container-id-4 div.sk-item::before, #sk-container-id-4 div.sk-parallel-item::before {content: \"\";position: absolute;border-left: 1px solid gray;box-sizing: border-box;top: 0;bottom: 0;left: 50%;z-index: -1;}#sk-container-id-4 div.sk-parallel-item {display: flex;flex-direction: column;z-index: 1;position: relative;background-color: white;}#sk-container-id-4 div.sk-parallel-item:first-child::after {align-self: flex-end;width: 50%;}#sk-container-id-4 div.sk-parallel-item:last-child::after {align-self: flex-start;width: 50%;}#sk-container-id-4 div.sk-parallel-item:only-child::after {width: 0;}#sk-container-id-4 div.sk-dashed-wrapped {border: 1px dashed gray;margin: 0 0.4em 0.5em 0.4em;box-sizing: border-box;padding-bottom: 0.4em;background-color: white;}#sk-container-id-4 div.sk-label label {font-family: monospace;font-weight: bold;display: inline-block;line-height: 1.2em;}#sk-container-id-4 div.sk-label-container {text-align: center;}#sk-container-id-4 div.sk-container {/* jupyter's `normalize.less` sets `[hidden] { display: none; }` but bootstrap.min.css set `[hidden] { display: none !important; }` so we also need the `!important` here to be able to override the default hidden behavior on the sphinx rendered scikit-learn.org. See: https://github.com/scikit-learn/scikit-learn/issues/21755 */display: inline-block !important;position: relative;}#sk-container-id-4 div.sk-text-repr-fallback {display: none;}</style><div id=\"sk-container-id-4\" class=\"sk-top-container\"><div class=\"sk-text-repr-fallback\"><pre>StandardScaler()</pre><b>In a Jupyter environment, please rerun this cell to show the HTML representation or trust the notebook. <br />On GitHub, the HTML representation is unable to render, please try loading this page with nbviewer.org.</b></div><div class=\"sk-container\" hidden><div class=\"sk-item\"><div class=\"sk-estimator sk-toggleable\"><input class=\"sk-toggleable__control sk-hidden--visually\" id=\"sk-estimator-id-8\" type=\"checkbox\" checked><label for=\"sk-estimator-id-8\" class=\"sk-toggleable__label sk-toggleable__label-arrow\">StandardScaler</label><div class=\"sk-toggleable__content\"><pre>StandardScaler()</pre></div></div></div></div></div>"
      ],
      "text/plain": [
       "StandardScaler()"
      ]
     },
     "execution_count": 81,
     "metadata": {},
     "output_type": "execute_result"
    }
   ],
   "source": [
    "scaler=StandardScaler()\n",
    "scaler.fit(X_train[numeric])"
   ]
  },
  {
   "cell_type": "code",
   "execution_count": 82,
   "metadata": {},
   "outputs": [],
   "source": [
    "X_train[numeric]=scaler.transform(X_train[numeric])\n",
    "X_valid[numeric]=scaler.transform(X_valid[numeric])\n",
    "X_test[numeric]=scaler.transform(X_test[numeric])"
   ]
  },
  {
   "cell_type": "markdown",
   "metadata": {},
   "source": [
    "#### С помощью модели \"Desicion Tree\" посчитаем метрики F1 и ROC-AUC без учета дисбаланса классов в целевом признаке."
   ]
  },
  {
   "cell_type": "code",
   "execution_count": 83,
   "metadata": {},
   "outputs": [
    {
     "name": "stdout",
     "output_type": "stream",
     "text": [
      "f1_score:\n",
      "0.5228758169934641\n",
      "Recall:\n",
      "0.45789473684210524\n",
      "Precision:\n",
      "0.45789473684210524\n",
      "ROC-AUC:\n",
      "0.6653671215074723\n"
     ]
    }
   ],
   "source": [
    "decision=pd.DataFrame()\n",
    "f1_max=0\n",
    "for depth in range(2,50):\n",
    "    model_dt_1=DecisionTreeClassifier(max_depth=depth,random_state=42)\n",
    "    model_dt_1.fit(X_train,y_train)\n",
    "    y_pred_1=model_dt_1.predict(X_valid)\n",
    "    f1=f1_score(y_valid,y_pred_1)\n",
    "    if f1>f1_max:\n",
    "        f1_max=f1\n",
    "        depth_opt=depth\n",
    "probabilites_1=model_dt_1.predict_proba(X_valid)\n",
    "probabilites_1_ones=probabilites_1[:,1]\n",
    "print('f1_score:',f1_max,\n",
    "      'Recall:',recall_score(y_valid,probabilites_1_ones),\n",
    "     'Precision:',precision_score(y_valid,probabilites_1_ones),\n",
    "     'ROC-AUC:',roc_auc_score(y_valid,probabilites_1_ones,),sep='\\n')"
   ]
  },
  {
   "cell_type": "markdown",
   "metadata": {},
   "source": [
    "    Была посчитана метрика F1,она оказалась  равна 0.52,что меньше необходимого по заданию. Так же расчитаны Precision,Recall,ROC-AUC,которые так же имеют очень маленькое значение."
   ]
  },
  {
   "cell_type": "markdown",
   "metadata": {},
   "source": [
    "**Для увеличения качества модели посмотрим на баланс классов целевого признака и при необходимости выровняем его.**"
   ]
  },
  {
   "cell_type": "markdown",
   "metadata": {},
   "source": [
    "## Борьба с дисбалансом<br>\n",
    "#### Увеличение/уменьшение числа  выборки. "
   ]
  },
  {
   "cell_type": "markdown",
   "metadata": {},
   "source": [
    "Посмотрим соотношение классов целевого признака."
   ]
  },
  {
   "cell_type": "code",
   "execution_count": 84,
   "metadata": {},
   "outputs": [
    {
     "data": {
      "image/png": "[encoded data removed]",
      "text/plain": [
       "<Figure size 640x480 with 1 Axes>"
      ]
     },
     "metadata": {},
     "output_type": "display_data"
    }
   ],
   "source": [
    "y.hist();"
   ]
  },
  {
   "cell_type": "code",
   "execution_count": 85,
   "metadata": {},
   "outputs": [
    {
     "name": "stdout",
     "output_type": "stream",
     "text": [
      "Соотношение классов целевого признака 3.9091801669121256\n"
     ]
    }
   ],
   "source": [
    "print('Соотношение классов целевого признака',(y[y==0].count()/y[y==1].count()))"
   ]
  },
  {
   "cell_type": "code",
   "execution_count": 86,
   "metadata": {},
   "outputs": [],
   "source": [
    "# функция для увеличения выборки\n",
    "def upsample(X,y,repeat):\n",
    "    X_zeros=X[y==0]\n",
    "    X_ones=X[y==1]\n",
    "    y_zeros=y[y==0]\n",
    "    y_ones=y[y==1]\n",
    "    X_upsampled=pd.concat([X_zeros]+[X_ones]*repeat)\n",
    "    y_upsampled=pd.concat([y_zeros]+[y_ones]*repeat)\n",
    "    X_upsampled,y_upsampled=shuffle(X_upsampled,y_upsampled,random_state=42)\n",
    "    return X_upsampled,y_upsampled"
   ]
  },
  {
   "cell_type": "code",
   "execution_count": 87,
   "metadata": {},
   "outputs": [],
   "source": [
    "X_up,y_up=upsample(X_train,y_train,4)"
   ]
  },
  {
   "cell_type": "code",
   "execution_count": 88,
   "metadata": {},
   "outputs": [
    {
     "name": "stdout",
     "output_type": "stream",
     "text": [
      "X_up (9681, 11)\n",
      "y_up (9681,)\n"
     ]
    }
   ],
   "source": [
    "# Размерность выборки с увеличенным числом данных \"позитивного\" класса  \n",
    "print('X_up',X_up.shape)\n",
    "print('y_up',y_up.shape)"
   ]
  },
  {
   "cell_type": "code",
   "execution_count": 89,
   "metadata": {},
   "outputs": [
    {
     "name": "stdout",
     "output_type": "stream",
     "text": [
      "Соотношение классов целевого признака 0.9724938875305623\n"
     ]
    }
   ],
   "source": [
    "print('Соотношение классов целевого признака',(\n",
    "    y_up[y_up==0].count()/y_up[y_up==1].count()))"
   ]
  },
  {
   "cell_type": "code",
   "execution_count": 90,
   "metadata": {},
   "outputs": [],
   "source": [
    "# функция для уменьшения выборки \"негативного\" класса.\n",
    "def downsample(X,y,fraction):\n",
    "    X_zeros=X[y==0]\n",
    "    X_ones=X[y==1]\n",
    "    y_zeros=y[y==0]\n",
    "    y_ones=y[y==1]\n",
    "    X_downsampled=pd.concat([X_zeros.sample(frac=fraction,random_state=42)]+[X_ones])\n",
    "    y_downsampled=pd.concat([y_zeros.sample(frac=fraction,random_state=42)]+[y_ones])\n",
    "    X_downsampled,y_downsampled=shuffle(X_downsampled,y_downsampled,random_state=42)\n",
    "    return X_downsampled,y_downsampled"
   ]
  },
  {
   "cell_type": "code",
   "execution_count": 91,
   "metadata": {},
   "outputs": [],
   "source": [
    "X_down,y_down=downsample(X_train,y_train,0.25)"
   ]
  },
  {
   "cell_type": "code",
   "execution_count": 92,
   "metadata": {},
   "outputs": [
    {
     "name": "stdout",
     "output_type": "stream",
     "text": [
      "Соотношение классов целевого признака 0.9722901385493072\n"
     ]
    }
   ],
   "source": [
    "print('Соотношение классов целевого признака',(\n",
    "    y_down[y_down==0].count()/y_down[y_down==1].count()))"
   ]
  },
  {
   "cell_type": "markdown",
   "metadata": {},
   "source": [
    "### Decision Tree"
   ]
  },
  {
   "cell_type": "markdown",
   "metadata": {},
   "source": [
    "    Найдем оптимальную глубину дерева с помощью GridSearchCV."
   ]
  },
  {
   "cell_type": "code",
   "execution_count": 93,
   "metadata": {},
   "outputs": [
    {
     "data": {
      "text/html": [
       "<style>#sk-container-id-5 {color: black;background-color: white;}#sk-container-id-5 pre{padding: 0;}#sk-container-id-5 div.sk-toggleable {background-color: white;}#sk-container-id-5 label.sk-toggleable__label {cursor: pointer;display: block;width: 100%;margin-bottom: 0;padding: 0.3em;box-sizing: border-box;text-align: center;}#sk-container-id-5 label.sk-toggleable__label-arrow:before {content: \"▸\";float: left;margin-right: 0.25em;color: #696969;}#sk-container-id-5 label.sk-toggleable__label-arrow:hover:before {color: black;}#sk-container-id-5 div.sk-estimator:hover label.sk-toggleable__label-arrow:before {color: black;}#sk-container-id-5 div.sk-toggleable__content {max-height: 0;max-width: 0;overflow: hidden;text-align: left;background-color: #f0f8ff;}#sk-container-id-5 div.sk-toggleable__content pre {margin: 0.2em;color: black;border-radius: 0.25em;background-color: #f0f8ff;}#sk-container-id-5 input.sk-toggleable__control:checked~div.sk-toggleable__content {max-height: 200px;max-width: 100%;overflow: auto;}#sk-container-id-5 input.sk-toggleable__control:checked~label.sk-toggleable__label-arrow:before {content: \"▾\";}#sk-container-id-5 div.sk-estimator input.sk-toggleable__control:checked~label.sk-toggleable__label {background-color: #d4ebff;}#sk-container-id-5 div.sk-label input.sk-toggleable__control:checked~label.sk-toggleable__label {background-color: #d4ebff;}#sk-container-id-5 input.sk-hidden--visually {border: 0;clip: rect(1px 1px 1px 1px);clip: rect(1px, 1px, 1px, 1px);height: 1px;margin: -1px;overflow: hidden;padding: 0;position: absolute;width: 1px;}#sk-container-id-5 div.sk-estimator {font-family: monospace;background-color: #f0f8ff;border: 1px dotted black;border-radius: 0.25em;box-sizing: border-box;margin-bottom: 0.5em;}#sk-container-id-5 div.sk-estimator:hover {background-color: #d4ebff;}#sk-container-id-5 div.sk-parallel-item::after {content: \"\";width: 100%;border-bottom: 1px solid gray;flex-grow: 1;}#sk-container-id-5 div.sk-label:hover label.sk-toggleable__label {background-color: #d4ebff;}#sk-container-id-5 div.sk-serial::before {content: \"\";position: absolute;border-left: 1px solid gray;box-sizing: border-box;top: 0;bottom: 0;left: 50%;z-index: 0;}#sk-container-id-5 div.sk-serial {display: flex;flex-direction: column;align-items: center;background-color: white;padding-right: 0.2em;padding-left: 0.2em;position: relative;}#sk-container-id-5 div.sk-item {position: relative;z-index: 1;}#sk-container-id-5 div.sk-parallel {display: flex;align-items: stretch;justify-content: center;background-color: white;position: relative;}#sk-container-id-5 div.sk-item::before, #sk-container-id-5 div.sk-parallel-item::before {content: \"\";position: absolute;border-left: 1px solid gray;box-sizing: border-box;top: 0;bottom: 0;left: 50%;z-index: -1;}#sk-container-id-5 div.sk-parallel-item {display: flex;flex-direction: column;z-index: 1;position: relative;background-color: white;}#sk-container-id-5 div.sk-parallel-item:first-child::after {align-self: flex-end;width: 50%;}#sk-container-id-5 div.sk-parallel-item:last-child::after {align-self: flex-start;width: 50%;}#sk-container-id-5 div.sk-parallel-item:only-child::after {width: 0;}#sk-container-id-5 div.sk-dashed-wrapped {border: 1px dashed gray;margin: 0 0.4em 0.5em 0.4em;box-sizing: border-box;padding-bottom: 0.4em;background-color: white;}#sk-container-id-5 div.sk-label label {font-family: monospace;font-weight: bold;display: inline-block;line-height: 1.2em;}#sk-container-id-5 div.sk-label-container {text-align: center;}#sk-container-id-5 div.sk-container {/* jupyter's `normalize.less` sets `[hidden] { display: none; }` but bootstrap.min.css set `[hidden] { display: none !important; }` so we also need the `!important` here to be able to override the default hidden behavior on the sphinx rendered scikit-learn.org. See: https://github.com/scikit-learn/scikit-learn/issues/21755 */display: inline-block !important;position: relative;}#sk-container-id-5 div.sk-text-repr-fallback {display: none;}</style><div id=\"sk-container-id-5\" class=\"sk-top-container\"><div class=\"sk-text-repr-fallback\"><pre>GridSearchCV(cv=5, estimator=DecisionTreeClassifier(),\n",
       "             param_grid={&#x27;max_depth&#x27;: range(2, 20)}, scoring=&#x27;f1&#x27;)</pre><b>In a Jupyter environment, please rerun this cell to show the HTML representation or trust the notebook. <br />On GitHub, the HTML representation is unable to render, please try loading this page with nbviewer.org.</b></div><div class=\"sk-container\" hidden><div class=\"sk-item sk-dashed-wrapped\"><div class=\"sk-label-container\"><div class=\"sk-label sk-toggleable\"><input class=\"sk-toggleable__control sk-hidden--visually\" id=\"sk-estimator-id-9\" type=\"checkbox\" ><label for=\"sk-estimator-id-9\" class=\"sk-toggleable__label sk-toggleable__label-arrow\">GridSearchCV</label><div class=\"sk-toggleable__content\"><pre>GridSearchCV(cv=5, estimator=DecisionTreeClassifier(),\n",
       "             param_grid={&#x27;max_depth&#x27;: range(2, 20)}, scoring=&#x27;f1&#x27;)</pre></div></div></div><div class=\"sk-parallel\"><div class=\"sk-parallel-item\"><div class=\"sk-item\"><div class=\"sk-label-container\"><div class=\"sk-label sk-toggleable\"><input class=\"sk-toggleable__control sk-hidden--visually\" id=\"sk-estimator-id-10\" type=\"checkbox\" ><label for=\"sk-estimator-id-10\" class=\"sk-toggleable__label sk-toggleable__label-arrow\">estimator: DecisionTreeClassifier</label><div class=\"sk-toggleable__content\"><pre>DecisionTreeClassifier()</pre></div></div></div><div class=\"sk-serial\"><div class=\"sk-item\"><div class=\"sk-estimator sk-toggleable\"><input class=\"sk-toggleable__control sk-hidden--visually\" id=\"sk-estimator-id-11\" type=\"checkbox\" ><label for=\"sk-estimator-id-11\" class=\"sk-toggleable__label sk-toggleable__label-arrow\">DecisionTreeClassifier</label><div class=\"sk-toggleable__content\"><pre>DecisionTreeClassifier()</pre></div></div></div></div></div></div></div></div></div></div>"
      ],
      "text/plain": [
       "GridSearchCV(cv=5, estimator=DecisionTreeClassifier(),\n",
       "             param_grid={'max_depth': range(2, 20)}, scoring='f1')"
      ]
     },
     "execution_count": 93,
     "metadata": {},
     "output_type": "execute_result"
    }
   ],
   "source": [
    "model_dt_2=DecisionTreeClassifier()\n",
    "parametrs={'max_depth':range(2,20)}\n",
    "grid=GridSearchCV(model_dt_2,parametrs,cv=5,scoring='f1')\n",
    "grid.fit(X_up,y_up)"
   ]
  },
  {
   "cell_type": "code",
   "execution_count": 94,
   "metadata": {},
   "outputs": [],
   "source": [
    "best_clf=grid.best_estimator_"
   ]
  },
  {
   "cell_type": "code",
   "execution_count": 95,
   "metadata": {},
   "outputs": [
    {
     "data": {
      "text/plain": [
       "{'max_depth': 19}"
      ]
     },
     "execution_count": 95,
     "metadata": {},
     "output_type": "execute_result"
    }
   ],
   "source": [
    "grid.best_params_"
   ]
  },
  {
   "cell_type": "code",
   "execution_count": 96,
   "metadata": {},
   "outputs": [
    {
     "data": {
      "text/plain": [
       "make_scorer(f1_score, average=binary)"
      ]
     },
     "execution_count": 96,
     "metadata": {},
     "output_type": "execute_result"
    }
   ],
   "source": [
    "grid.scorer_"
   ]
  },
  {
   "cell_type": "code",
   "execution_count": 97,
   "metadata": {},
   "outputs": [
    {
     "data": {
      "text/plain": [
       "0.9307901255881793"
      ]
     },
     "execution_count": 97,
     "metadata": {},
     "output_type": "execute_result"
    }
   ],
   "source": [
    "grid.best_score_"
   ]
  },
  {
   "cell_type": "markdown",
   "metadata": {},
   "source": [
    "Значения метрики **f1**,определенное на кроссвалидации с помощью GridSearchCV равно **0,93**\n"
   ]
  },
  {
   "cell_type": "markdown",
   "metadata": {},
   "source": [
    "### Перейдем к изучению других моделей."
   ]
  },
  {
   "cell_type": "markdown",
   "metadata": {},
   "source": [
    "### Random Forest"
   ]
  },
  {
   "cell_type": "code",
   "execution_count": 98,
   "metadata": {},
   "outputs": [
    {
     "data": {
      "text/html": [
       "<style>#sk-container-id-6 {color: black;background-color: white;}#sk-container-id-6 pre{padding: 0;}#sk-container-id-6 div.sk-toggleable {background-color: white;}#sk-container-id-6 label.sk-toggleable__label {cursor: pointer;display: block;width: 100%;margin-bottom: 0;padding: 0.3em;box-sizing: border-box;text-align: center;}#sk-container-id-6 label.sk-toggleable__label-arrow:before {content: \"▸\";float: left;margin-right: 0.25em;color: #696969;}#sk-container-id-6 label.sk-toggleable__label-arrow:hover:before {color: black;}#sk-container-id-6 div.sk-estimator:hover label.sk-toggleable__label-arrow:before {color: black;}#sk-container-id-6 div.sk-toggleable__content {max-height: 0;max-width: 0;overflow: hidden;text-align: left;background-color: #f0f8ff;}#sk-container-id-6 div.sk-toggleable__content pre {margin: 0.2em;color: black;border-radius: 0.25em;background-color: #f0f8ff;}#sk-container-id-6 input.sk-toggleable__control:checked~div.sk-toggleable__content {max-height: 200px;max-width: 100%;overflow: auto;}#sk-container-id-6 input.sk-toggleable__control:checked~label.sk-toggleable__label-arrow:before {content: \"▾\";}#sk-container-id-6 div.sk-estimator input.sk-toggleable__control:checked~label.sk-toggleable__label {background-color: #d4ebff;}#sk-container-id-6 div.sk-label input.sk-toggleable__control:checked~label.sk-toggleable__label {background-color: #d4ebff;}#sk-container-id-6 input.sk-hidden--visually {border: 0;clip: rect(1px 1px 1px 1px);clip: rect(1px, 1px, 1px, 1px);height: 1px;margin: -1px;overflow: hidden;padding: 0;position: absolute;width: 1px;}#sk-container-id-6 div.sk-estimator {font-family: monospace;background-color: #f0f8ff;border: 1px dotted black;border-radius: 0.25em;box-sizing: border-box;margin-bottom: 0.5em;}#sk-container-id-6 div.sk-estimator:hover {background-color: #d4ebff;}#sk-container-id-6 div.sk-parallel-item::after {content: \"\";width: 100%;border-bottom: 1px solid gray;flex-grow: 1;}#sk-container-id-6 div.sk-label:hover label.sk-toggleable__label {background-color: #d4ebff;}#sk-container-id-6 div.sk-serial::before {content: \"\";position: absolute;border-left: 1px solid gray;box-sizing: border-box;top: 0;bottom: 0;left: 50%;z-index: 0;}#sk-container-id-6 div.sk-serial {display: flex;flex-direction: column;align-items: center;background-color: white;padding-right: 0.2em;padding-left: 0.2em;position: relative;}#sk-container-id-6 div.sk-item {position: relative;z-index: 1;}#sk-container-id-6 div.sk-parallel {display: flex;align-items: stretch;justify-content: center;background-color: white;position: relative;}#sk-container-id-6 div.sk-item::before, #sk-container-id-6 div.sk-parallel-item::before {content: \"\";position: absolute;border-left: 1px solid gray;box-sizing: border-box;top: 0;bottom: 0;left: 50%;z-index: -1;}#sk-container-id-6 div.sk-parallel-item {display: flex;flex-direction: column;z-index: 1;position: relative;background-color: white;}#sk-container-id-6 div.sk-parallel-item:first-child::after {align-self: flex-end;width: 50%;}#sk-container-id-6 div.sk-parallel-item:last-child::after {align-self: flex-start;width: 50%;}#sk-container-id-6 div.sk-parallel-item:only-child::after {width: 0;}#sk-container-id-6 div.sk-dashed-wrapped {border: 1px dashed gray;margin: 0 0.4em 0.5em 0.4em;box-sizing: border-box;padding-bottom: 0.4em;background-color: white;}#sk-container-id-6 div.sk-label label {font-family: monospace;font-weight: bold;display: inline-block;line-height: 1.2em;}#sk-container-id-6 div.sk-label-container {text-align: center;}#sk-container-id-6 div.sk-container {/* jupyter's `normalize.less` sets `[hidden] { display: none; }` but bootstrap.min.css set `[hidden] { display: none !important; }` so we also need the `!important` here to be able to override the default hidden behavior on the sphinx rendered scikit-learn.org. See: https://github.com/scikit-learn/scikit-learn/issues/21755 */display: inline-block !important;position: relative;}#sk-container-id-6 div.sk-text-repr-fallback {display: none;}</style><div id=\"sk-container-id-6\" class=\"sk-top-container\"><div class=\"sk-text-repr-fallback\"><pre>GridSearchCV(cv=5, estimator=RandomForestClassifier(),\n",
       "             param_grid={&#x27;max_depth&#x27;: range(2, 10),\n",
       "                         &#x27;n_estimators&#x27;: range(5, 101, 10)},\n",
       "             scoring=&#x27;f1&#x27;)</pre><b>In a Jupyter environment, please rerun this cell to show the HTML representation or trust the notebook. <br />On GitHub, the HTML representation is unable to render, please try loading this page with nbviewer.org.</b></div><div class=\"sk-container\" hidden><div class=\"sk-item sk-dashed-wrapped\"><div class=\"sk-label-container\"><div class=\"sk-label sk-toggleable\"><input class=\"sk-toggleable__control sk-hidden--visually\" id=\"sk-estimator-id-12\" type=\"checkbox\" ><label for=\"sk-estimator-id-12\" class=\"sk-toggleable__label sk-toggleable__label-arrow\">GridSearchCV</label><div class=\"sk-toggleable__content\"><pre>GridSearchCV(cv=5, estimator=RandomForestClassifier(),\n",
       "             param_grid={&#x27;max_depth&#x27;: range(2, 10),\n",
       "                         &#x27;n_estimators&#x27;: range(5, 101, 10)},\n",
       "             scoring=&#x27;f1&#x27;)</pre></div></div></div><div class=\"sk-parallel\"><div class=\"sk-parallel-item\"><div class=\"sk-item\"><div class=\"sk-label-container\"><div class=\"sk-label sk-toggleable\"><input class=\"sk-toggleable__control sk-hidden--visually\" id=\"sk-estimator-id-13\" type=\"checkbox\" ><label for=\"sk-estimator-id-13\" class=\"sk-toggleable__label sk-toggleable__label-arrow\">estimator: RandomForestClassifier</label><div class=\"sk-toggleable__content\"><pre>RandomForestClassifier()</pre></div></div></div><div class=\"sk-serial\"><div class=\"sk-item\"><div class=\"sk-estimator sk-toggleable\"><input class=\"sk-toggleable__control sk-hidden--visually\" id=\"sk-estimator-id-14\" type=\"checkbox\" ><label for=\"sk-estimator-id-14\" class=\"sk-toggleable__label sk-toggleable__label-arrow\">RandomForestClassifier</label><div class=\"sk-toggleable__content\"><pre>RandomForestClassifier()</pre></div></div></div></div></div></div></div></div></div></div>"
      ],
      "text/plain": [
       "GridSearchCV(cv=5, estimator=RandomForestClassifier(),\n",
       "             param_grid={'max_depth': range(2, 10),\n",
       "                         'n_estimators': range(5, 101, 10)},\n",
       "             scoring='f1')"
      ]
     },
     "execution_count": 98,
     "metadata": {},
     "output_type": "execute_result"
    }
   ],
   "source": [
    "model_rf_1=RandomForestClassifier()\n",
    "parametrs={'n_estimators':range(5,101,10),'max_depth':range(2,10)}\n",
    "grid_rf_1=GridSearchCV(model_rf_1,parametrs,cv=5,scoring='f1')\n",
    "grid_rf_1.fit(X_up,y_up)"
   ]
  },
  {
   "cell_type": "code",
   "execution_count": 99,
   "metadata": {},
   "outputs": [
    {
     "name": "stdout",
     "output_type": "stream",
     "text": [
      "{'max_depth': 9, 'n_estimators': 85}\n"
     ]
    }
   ],
   "source": [
    "best_clf_rf_1=grid_rf_1.best_estimator_\n",
    "print(grid_rf_1.best_params_)"
   ]
  },
  {
   "cell_type": "code",
   "execution_count": 100,
   "metadata": {},
   "outputs": [
    {
     "data": {
      "text/plain": [
       "0.8511542836149963"
      ]
     },
     "execution_count": 100,
     "metadata": {},
     "output_type": "execute_result"
    }
   ],
   "source": [
    "grid_rf_1.best_score_"
   ]
  },
  {
   "cell_type": "markdown",
   "metadata": {},
   "source": [
    "Модель Random Forest имеет метрику **f1_score равную 0.85**."
   ]
  },
  {
   "cell_type": "markdown",
   "metadata": {},
   "source": [
    "#### Для сравнения посмотрим метрики,которые покажет модель лигистической регрессии."
   ]
  },
  {
   "cell_type": "code",
   "execution_count": 101,
   "metadata": {},
   "outputs": [
    {
     "name": "stdout",
     "output_type": "stream",
     "text": [
      "ROC-AUC: 0.7528265107212474\n",
      "f1_score: 0.46379310344827585\n"
     ]
    }
   ],
   "source": [
    "model_lr=LogisticRegression(random_state=42,solver='lbfgs',max_iter=1000)\n",
    "model_lr.fit(X_up,y_up)\n",
    "y_pred_lr=model_lr.predict(X_valid)\n",
    "probabilities_valid=model_lr.predict_proba(X_valid)\n",
    "probabilities_one_valid=probabilities_valid[:,1]\n",
    "print('ROC-AUC:',roc_auc_score(y_valid,probabilities_one_valid))\n",
    "print('f1_score:',f1_score(y_pred_lr,y_valid))"
   ]
  },
  {
   "cell_type": "markdown",
   "metadata": {},
   "source": [
    "#### Борьба с дисбалансом<br>\n"
   ]
  },
  {
   "cell_type": "markdown",
   "metadata": {},
   "source": [
    "Функция `Downsample`- уменьшение количства выборки \"негативного\" класса."
   ]
  },
  {
   "cell_type": "markdown",
   "metadata": {},
   "source": [
    "#### Random Forest"
   ]
  },
  {
   "cell_type": "code",
   "execution_count": 102,
   "metadata": {},
   "outputs": [
    {
     "data": {
      "text/html": [
       "<style>#sk-container-id-7 {color: black;background-color: white;}#sk-container-id-7 pre{padding: 0;}#sk-container-id-7 div.sk-toggleable {background-color: white;}#sk-container-id-7 label.sk-toggleable__label {cursor: pointer;display: block;width: 100%;margin-bottom: 0;padding: 0.3em;box-sizing: border-box;text-align: center;}#sk-container-id-7 label.sk-toggleable__label-arrow:before {content: \"▸\";float: left;margin-right: 0.25em;color: #696969;}#sk-container-id-7 label.sk-toggleable__label-arrow:hover:before {color: black;}#sk-container-id-7 div.sk-estimator:hover label.sk-toggleable__label-arrow:before {color: black;}#sk-container-id-7 div.sk-toggleable__content {max-height: 0;max-width: 0;overflow: hidden;text-align: left;background-color: #f0f8ff;}#sk-container-id-7 div.sk-toggleable__content pre {margin: 0.2em;color: black;border-radius: 0.25em;background-color: #f0f8ff;}#sk-container-id-7 input.sk-toggleable__control:checked~div.sk-toggleable__content {max-height: 200px;max-width: 100%;overflow: auto;}#sk-container-id-7 input.sk-toggleable__control:checked~label.sk-toggleable__label-arrow:before {content: \"▾\";}#sk-container-id-7 div.sk-estimator input.sk-toggleable__control:checked~label.sk-toggleable__label {background-color: #d4ebff;}#sk-container-id-7 div.sk-label input.sk-toggleable__control:checked~label.sk-toggleable__label {background-color: #d4ebff;}#sk-container-id-7 input.sk-hidden--visually {border: 0;clip: rect(1px 1px 1px 1px);clip: rect(1px, 1px, 1px, 1px);height: 1px;margin: -1px;overflow: hidden;padding: 0;position: absolute;width: 1px;}#sk-container-id-7 div.sk-estimator {font-family: monospace;background-color: #f0f8ff;border: 1px dotted black;border-radius: 0.25em;box-sizing: border-box;margin-bottom: 0.5em;}#sk-container-id-7 div.sk-estimator:hover {background-color: #d4ebff;}#sk-container-id-7 div.sk-parallel-item::after {content: \"\";width: 100%;border-bottom: 1px solid gray;flex-grow: 1;}#sk-container-id-7 div.sk-label:hover label.sk-toggleable__label {background-color: #d4ebff;}#sk-container-id-7 div.sk-serial::before {content: \"\";position: absolute;border-left: 1px solid gray;box-sizing: border-box;top: 0;bottom: 0;left: 50%;z-index: 0;}#sk-container-id-7 div.sk-serial {display: flex;flex-direction: column;align-items: center;background-color: white;padding-right: 0.2em;padding-left: 0.2em;position: relative;}#sk-container-id-7 div.sk-item {position: relative;z-index: 1;}#sk-container-id-7 div.sk-parallel {display: flex;align-items: stretch;justify-content: center;background-color: white;position: relative;}#sk-container-id-7 div.sk-item::before, #sk-container-id-7 div.sk-parallel-item::before {content: \"\";position: absolute;border-left: 1px solid gray;box-sizing: border-box;top: 0;bottom: 0;left: 50%;z-index: -1;}#sk-container-id-7 div.sk-parallel-item {display: flex;flex-direction: column;z-index: 1;position: relative;background-color: white;}#sk-container-id-7 div.sk-parallel-item:first-child::after {align-self: flex-end;width: 50%;}#sk-container-id-7 div.sk-parallel-item:last-child::after {align-self: flex-start;width: 50%;}#sk-container-id-7 div.sk-parallel-item:only-child::after {width: 0;}#sk-container-id-7 div.sk-dashed-wrapped {border: 1px dashed gray;margin: 0 0.4em 0.5em 0.4em;box-sizing: border-box;padding-bottom: 0.4em;background-color: white;}#sk-container-id-7 div.sk-label label {font-family: monospace;font-weight: bold;display: inline-block;line-height: 1.2em;}#sk-container-id-7 div.sk-label-container {text-align: center;}#sk-container-id-7 div.sk-container {/* jupyter's `normalize.less` sets `[hidden] { display: none; }` but bootstrap.min.css set `[hidden] { display: none !important; }` so we also need the `!important` here to be able to override the default hidden behavior on the sphinx rendered scikit-learn.org. See: https://github.com/scikit-learn/scikit-learn/issues/21755 */display: inline-block !important;position: relative;}#sk-container-id-7 div.sk-text-repr-fallback {display: none;}</style><div id=\"sk-container-id-7\" class=\"sk-top-container\"><div class=\"sk-text-repr-fallback\"><pre>GridSearchCV(cv=5, estimator=RandomForestClassifier(),\n",
       "             param_grid={&#x27;max_depth&#x27;: range(2, 10),\n",
       "                         &#x27;n_estimators&#x27;: range(5, 101, 10)},\n",
       "             scoring=&#x27;f1&#x27;)</pre><b>In a Jupyter environment, please rerun this cell to show the HTML representation or trust the notebook. <br />On GitHub, the HTML representation is unable to render, please try loading this page with nbviewer.org.</b></div><div class=\"sk-container\" hidden><div class=\"sk-item sk-dashed-wrapped\"><div class=\"sk-label-container\"><div class=\"sk-label sk-toggleable\"><input class=\"sk-toggleable__control sk-hidden--visually\" id=\"sk-estimator-id-15\" type=\"checkbox\" ><label for=\"sk-estimator-id-15\" class=\"sk-toggleable__label sk-toggleable__label-arrow\">GridSearchCV</label><div class=\"sk-toggleable__content\"><pre>GridSearchCV(cv=5, estimator=RandomForestClassifier(),\n",
       "             param_grid={&#x27;max_depth&#x27;: range(2, 10),\n",
       "                         &#x27;n_estimators&#x27;: range(5, 101, 10)},\n",
       "             scoring=&#x27;f1&#x27;)</pre></div></div></div><div class=\"sk-parallel\"><div class=\"sk-parallel-item\"><div class=\"sk-item\"><div class=\"sk-label-container\"><div class=\"sk-label sk-toggleable\"><input class=\"sk-toggleable__control sk-hidden--visually\" id=\"sk-estimator-id-16\" type=\"checkbox\" ><label for=\"sk-estimator-id-16\" class=\"sk-toggleable__label sk-toggleable__label-arrow\">estimator: RandomForestClassifier</label><div class=\"sk-toggleable__content\"><pre>RandomForestClassifier()</pre></div></div></div><div class=\"sk-serial\"><div class=\"sk-item\"><div class=\"sk-estimator sk-toggleable\"><input class=\"sk-toggleable__control sk-hidden--visually\" id=\"sk-estimator-id-17\" type=\"checkbox\" ><label for=\"sk-estimator-id-17\" class=\"sk-toggleable__label sk-toggleable__label-arrow\">RandomForestClassifier</label><div class=\"sk-toggleable__content\"><pre>RandomForestClassifier()</pre></div></div></div></div></div></div></div></div></div></div>"
      ],
      "text/plain": [
       "GridSearchCV(cv=5, estimator=RandomForestClassifier(),\n",
       "             param_grid={'max_depth': range(2, 10),\n",
       "                         'n_estimators': range(5, 101, 10)},\n",
       "             scoring='f1')"
      ]
     },
     "execution_count": 102,
     "metadata": {},
     "output_type": "execute_result"
    }
   ],
   "source": [
    "model_rf_2=RandomForestClassifier()\n",
    "parametrs={'n_estimators':range(5,101,10),'max_depth':range(2,10)}\n",
    "grid_rf_2=GridSearchCV(model_rf_2,parametrs,cv=5,scoring='f1')\n",
    "grid_rf_2.fit(X_down,y_down)"
   ]
  },
  {
   "cell_type": "code",
   "execution_count": 103,
   "metadata": {},
   "outputs": [
    {
     "name": "stdout",
     "output_type": "stream",
     "text": [
      "{'max_depth': 9, 'n_estimators': 85}\n"
     ]
    }
   ],
   "source": [
    "best_clf_rf_2=grid_rf_2.best_estimator_\n",
    "print(grid_rf_2.best_params_)"
   ]
  },
  {
   "cell_type": "code",
   "execution_count": 104,
   "metadata": {},
   "outputs": [
    {
     "data": {
      "text/plain": [
       "0.7788503620596213"
      ]
     },
     "execution_count": 104,
     "metadata": {},
     "output_type": "execute_result"
    }
   ],
   "source": [
    "grid_rf_2.best_score_"
   ]
  },
  {
   "cell_type": "markdown",
   "metadata": {},
   "source": [
    "Значения метрики f1,определенное на кроссвалидации с помощью GridSearchCV равно 0,78"
   ]
  },
  {
   "cell_type": "markdown",
   "metadata": {},
   "source": [
    "## Тестирование модели"
   ]
  },
  {
   "cell_type": "markdown",
   "metadata": {},
   "source": [
    "#### Значения метрик F1 и ROC-AUC для всех рассчитанных моделей на тестовой выборке."
   ]
  },
  {
   "cell_type": "code",
   "execution_count": 105,
   "metadata": {},
   "outputs": [
    {
     "name": "stdout",
     "output_type": "stream",
     "text": [
      "Upsample\n",
      "Decision Tree\n",
      "ROC-AUC: 0.6828499481558288\n",
      "f1_score : 0.5\n",
      "Random Forest\n",
      "ROC-AUC: 0.8652036735298474\n",
      "f1_score : 0.6354378818737271\n",
      "Downsample\n",
      "Random Forest\n",
      "ROC-AUC: 0.8616086505702858\n",
      "f1_score : 0.6144029170464904\n"
     ]
    }
   ],
   "source": [
    "print('Upsample')\n",
    "\n",
    "print('Decision Tree')\n",
    "y_pred_test_1=best_clf.predict(X_test)\n",
    "probabilities_test_1=best_clf.predict_proba(X_test)\n",
    "probabilities_one_test_1=probabilities_test_1[:,1]\n",
    "print('ROC-AUC:',roc_auc_score(y_test,probabilities_one_test_1))\n",
    "print('f1_score :',f1_score(y_test,y_pred_test_1))\n",
    "print('Random Forest')\n",
    "y_pred_test_2=best_clf_rf_1.predict(X_test)\n",
    "probabilities_test_2=best_clf_rf_1.predict_proba(X_test)\n",
    "probabilities_one_test_2=probabilities_test_2[:,1]\n",
    "print('ROC-AUC:',roc_auc_score(y_test,probabilities_one_test_2))\n",
    "print('f1_score :',f1_score(y_test,y_pred_test_2))\n",
    "\n",
    "print('Downsample')\n",
    "\n",
    "print('Random Forest')\n",
    "y_pred_test_2=best_clf_rf_2.predict(X_test)\n",
    "probabilities_test_2=best_clf_rf_2.predict_proba(X_test)\n",
    "probabilities_one_test_2=probabilities_test_2[:,1]\n",
    "print('ROC-AUC:',roc_auc_score(y_test,probabilities_one_test_2))\n",
    "print('f1_score :',f1_score(y_test,y_pred_test_2))"
   ]
  },
  {
   "cell_type": "markdown",
   "metadata": {},
   "source": [
    "Максимальные значения метрик:<br>\n",
    "Random Forest<br>\n",
    "ROC-AUC: 0.86<br>\n",
    "f1_score : 0.63"
   ]
  },
  {
   "cell_type": "code",
   "execution_count": 106,
   "metadata": {},
   "outputs": [
    {
     "name": "stdout",
     "output_type": "stream",
     "text": [
      "Recall_score : 0.7837209302325582\n",
      "precision_score : 0.5052473763118441\n"
     ]
    }
   ],
   "source": [
    "#Посчитаем для данной модели еще пару метрик.\n",
    "print('Recall_score :',recall_score(y_test,y_pred_test_2))\n",
    "print('precision_score :',precision_score(y_test,y_pred_test_2))"
   ]
  },
  {
   "cell_type": "markdown",
   "metadata": {},
   "source": [
    "По заданию требовалось построить модель,которая будет классифицировать уйдет ли клиент в ближайшее время или нет. Причем метрика F1 у этой модели на тестовой выборке должна быть не меньше 0,59."
   ]
  },
  {
   "cell_type": "markdown",
   "metadata": {},
   "source": [
    "Были проанализированы три вида моделей-Decision Tree, Random Forest, Logistic regression, выбрана модель, показывающая максимальную метрику F1 на валидационной выборке. <br>\n",
    "Расммотрели два вида борьбы с диссбалансом классов. Помимо метода, при котором увеличивается число элементов \"позитивного\" класса `при помощи функции upsample`, был опробован еще метод, при котором уменьшается число элементов \"негативного \" класса `при помощи функции downsample`.<br>\n",
    "\n",
    "В результате выбрана модель **Random forest**, показывающая метрики: <br>\n",
    "**ROC-AUC: 0.86**<br>\n",
    "**f1_score : 0.63**<br>\n",
    "**Recall_score : 0.78**<br>\n",
    "**precision_score : 0.50**"
   ]
  },
  {
   "cell_type": "markdown",
   "metadata": {},
   "source": [
    "## Чек-лист готовности проекта"
   ]
  },
  {
   "cell_type": "markdown",
   "metadata": {},
   "source": [
    "Поставьте 'x' в выполненных пунктах. Далее нажмите Shift+Enter."
   ]
  },
  {
   "cell_type": "markdown",
   "metadata": {},
   "source": [
    "- [x]  Jupyter Notebook открыт\n",
    "- [x]  Весь код выполняется без ошибок\n",
    "- [x ]  Ячейки с кодом расположены в порядке исполнения\n",
    "- [x ]  Выполнен шаг 1: данные подготовлены\n",
    "- [x ]  Выполнен шаг 2: задача исследована\n",
    "    - [ x]  Исследован баланс классов\n",
    "    - [ x]  Изучены модели без учёта дисбаланса\n",
    "    - [x ]  Написаны выводы по результатам исследования\n",
    "- [x ]  Выполнен шаг 3: учтён дисбаланс\n",
    "    - [x ]  Применено несколько способов борьбы с дисбалансом\n",
    "    - [ x]  Написаны выводы по результатам исследования\n",
    "- [ x]  Выполнен шаг 4: проведено тестирование\n",
    "- [x ]  Удалось достичь *F1*-меры не менее 0.59\n",
    "- [x ]  Исследована метрика *AUC-ROC*"
   ]
  },
  {
   "cell_type": "code",
   "execution_count": null,
   "metadata": {},
   "outputs": [],
   "source": []
  }
 ],
 "metadata": {
  "ExecuteTimeLog": [
   {
    "duration": 454,
    "start_time": "2022-11-13T17:00:32.134Z"
   },
   {
    "duration": 164,
    "start_time": "2022-11-13T17:01:39.691Z"
   },
   {
    "duration": 20,
    "start_time": "2022-11-13T17:01:47.211Z"
   },
   {
    "duration": 38,
    "start_time": "2022-11-13T17:02:29.634Z"
   },
   {
    "duration": 12,
    "start_time": "2022-11-13T17:02:32.129Z"
   },
   {
    "duration": 12,
    "start_time": "2022-11-13T17:04:08.368Z"
   },
   {
    "duration": 6,
    "start_time": "2022-11-13T17:05:10.624Z"
   },
   {
    "duration": 1040,
    "start_time": "2022-11-13T17:06:41.871Z"
   },
   {
    "duration": 3,
    "start_time": "2022-11-13T17:06:44.819Z"
   },
   {
    "duration": 44,
    "start_time": "2022-11-13T17:06:45.270Z"
   },
   {
    "duration": 14,
    "start_time": "2022-11-13T17:06:45.775Z"
   },
   {
    "duration": 13,
    "start_time": "2022-11-13T17:06:46.166Z"
   },
   {
    "duration": 8,
    "start_time": "2022-11-13T17:08:37.261Z"
   },
   {
    "duration": 6,
    "start_time": "2022-11-13T17:08:47.110Z"
   },
   {
    "duration": 6,
    "start_time": "2022-11-13T17:08:57.992Z"
   },
   {
    "duration": 6,
    "start_time": "2022-11-13T17:08:59.793Z"
   },
   {
    "duration": 7,
    "start_time": "2022-11-13T17:09:42.968Z"
   },
   {
    "duration": 116,
    "start_time": "2022-11-13T17:16:31.018Z"
   },
   {
    "duration": 43,
    "start_time": "2022-11-13T17:16:57.341Z"
   },
   {
    "duration": 40,
    "start_time": "2022-11-13T17:17:05.899Z"
   },
   {
    "duration": 9,
    "start_time": "2022-11-13T17:17:06.622Z"
   },
   {
    "duration": 7364,
    "start_time": "2022-11-13T17:17:39.264Z"
   },
   {
    "duration": 2418,
    "start_time": "2022-11-13T17:18:01.036Z"
   },
   {
    "duration": 1279,
    "start_time": "2022-11-13T17:18:03.456Z"
   },
   {
    "duration": 39,
    "start_time": "2022-11-13T17:18:04.737Z"
   },
   {
    "duration": 16,
    "start_time": "2022-11-13T17:18:04.779Z"
   },
   {
    "duration": 16,
    "start_time": "2022-11-13T17:18:04.796Z"
   },
   {
    "duration": 20,
    "start_time": "2022-11-13T17:18:04.814Z"
   },
   {
    "duration": 35599,
    "start_time": "2022-11-13T17:18:29.552Z"
   },
   {
    "duration": 3,
    "start_time": "2022-11-13T17:19:05.154Z"
   },
   {
    "duration": 2307,
    "start_time": "2022-11-13T17:19:15.952Z"
   },
   {
    "duration": 12081,
    "start_time": "2022-11-13T17:19:18.262Z"
   },
   {
    "duration": 1144,
    "start_time": "2022-11-13T17:19:30.345Z"
   },
   {
    "duration": 40,
    "start_time": "2022-11-13T17:19:31.490Z"
   },
   {
    "duration": 17,
    "start_time": "2022-11-13T17:19:31.532Z"
   },
   {
    "duration": 12,
    "start_time": "2022-11-13T17:19:31.550Z"
   },
   {
    "duration": 6,
    "start_time": "2022-11-13T17:19:31.563Z"
   },
   {
    "duration": 2357,
    "start_time": "2022-11-13T17:19:59.099Z"
   },
   {
    "duration": 2331,
    "start_time": "2022-11-13T17:20:21.882Z"
   },
   {
    "duration": 11501,
    "start_time": "2022-11-13T17:20:24.216Z"
   },
   {
    "duration": 1111,
    "start_time": "2022-11-13T17:20:35.719Z"
   },
   {
    "duration": 41,
    "start_time": "2022-11-13T17:20:36.832Z"
   },
   {
    "duration": 16,
    "start_time": "2022-11-13T17:20:36.875Z"
   },
   {
    "duration": 1039,
    "start_time": "2022-11-13T17:23:13.454Z"
   },
   {
    "duration": 8319,
    "start_time": "2022-11-13T17:23:35.421Z"
   },
   {
    "duration": 58590,
    "start_time": "2022-11-13T17:24:46.429Z"
   },
   {
    "duration": 3,
    "start_time": "2022-11-13T17:25:45.022Z"
   },
   {
    "duration": 3,
    "start_time": "2022-11-13T17:26:49.982Z"
   },
   {
    "duration": 4,
    "start_time": "2022-11-13T17:27:06.793Z"
   },
   {
    "duration": 5,
    "start_time": "2022-11-13T17:27:59.840Z"
   },
   {
    "duration": 2479,
    "start_time": "2022-11-19T10:13:58.310Z"
   },
   {
    "duration": 1326,
    "start_time": "2022-11-19T10:14:01.258Z"
   },
   {
    "duration": 3,
    "start_time": "2022-11-19T10:14:03.147Z"
   },
   {
    "duration": 47,
    "start_time": "2022-11-19T10:14:03.590Z"
   },
   {
    "duration": 15,
    "start_time": "2022-11-19T10:14:21.070Z"
   },
   {
    "duration": 5,
    "start_time": "2022-11-19T10:14:24.170Z"
   },
   {
    "duration": 12,
    "start_time": "2022-11-19T10:14:24.790Z"
   },
   {
    "duration": 7,
    "start_time": "2022-11-19T10:14:25.330Z"
   },
   {
    "duration": 5,
    "start_time": "2022-11-19T10:14:26.052Z"
   },
   {
    "duration": 5,
    "start_time": "2022-11-19T10:14:26.230Z"
   },
   {
    "duration": 5,
    "start_time": "2022-11-19T10:14:27.038Z"
   },
   {
    "duration": 4,
    "start_time": "2022-11-19T10:14:27.579Z"
   },
   {
    "duration": 14,
    "start_time": "2022-11-19T10:17:24.218Z"
   },
   {
    "duration": 7,
    "start_time": "2022-11-19T10:17:26.039Z"
   },
   {
    "duration": 12,
    "start_time": "2022-11-19T10:17:26.669Z"
   },
   {
    "duration": 12,
    "start_time": "2022-11-19T10:17:29.810Z"
   },
   {
    "duration": 8,
    "start_time": "2022-11-19T10:17:56.487Z"
   },
   {
    "duration": 3,
    "start_time": "2022-11-19T10:17:56.910Z"
   },
   {
    "duration": 8,
    "start_time": "2022-11-19T10:18:01.290Z"
   },
   {
    "duration": 12,
    "start_time": "2022-11-19T10:18:01.760Z"
   },
   {
    "duration": 7,
    "start_time": "2022-11-19T10:18:01.918Z"
   },
   {
    "duration": 3,
    "start_time": "2022-11-19T10:18:33.746Z"
   },
   {
    "duration": 13,
    "start_time": "2022-11-19T10:18:34.576Z"
   },
   {
    "duration": 21,
    "start_time": "2022-11-19T10:18:35.830Z"
   },
   {
    "duration": 1563,
    "start_time": "2022-11-19T10:19:10.079Z"
   },
   {
    "duration": 152,
    "start_time": "2022-11-19T10:19:47.105Z"
   },
   {
    "duration": 8,
    "start_time": "2022-11-19T10:19:52.133Z"
   },
   {
    "duration": 5,
    "start_time": "2022-11-19T10:20:33.425Z"
   },
   {
    "duration": 11,
    "start_time": "2022-11-19T10:20:35.274Z"
   },
   {
    "duration": 5,
    "start_time": "2022-11-19T10:20:36.006Z"
   },
   {
    "duration": 4,
    "start_time": "2022-11-19T10:20:36.921Z"
   },
   {
    "duration": 13,
    "start_time": "2022-11-19T10:20:38.554Z"
   },
   {
    "duration": 6,
    "start_time": "2022-11-19T10:20:39.102Z"
   },
   {
    "duration": 4,
    "start_time": "2022-11-19T10:22:18.037Z"
   },
   {
    "duration": 33884,
    "start_time": "2022-11-20T09:35:20.832Z"
   },
   {
    "duration": 2447,
    "start_time": "2022-11-20T09:35:54.718Z"
   },
   {
    "duration": 1547,
    "start_time": "2022-11-20T09:35:57.167Z"
   },
   {
    "duration": 4,
    "start_time": "2022-11-20T09:35:58.717Z"
   },
   {
    "duration": 1259,
    "start_time": "2022-11-20T09:35:58.723Z"
   },
   {
    "duration": 279,
    "start_time": "2022-11-20T09:35:59.984Z"
   },
   {
    "duration": 44,
    "start_time": "2022-11-20T09:36:49.433Z"
   },
   {
    "duration": 505,
    "start_time": "2022-11-20T09:41:47.975Z"
   },
   {
    "duration": 1022,
    "start_time": "2022-11-20T09:42:13.352Z"
   },
   {
    "duration": 805,
    "start_time": "2022-11-20T09:42:17.676Z"
   },
   {
    "duration": 127,
    "start_time": "2022-11-20T09:42:39.092Z"
   },
   {
    "duration": 259,
    "start_time": "2022-11-20T09:43:02.005Z"
   },
   {
    "duration": 127,
    "start_time": "2022-11-20T09:43:11.803Z"
   },
   {
    "duration": 305,
    "start_time": "2022-11-20T09:43:59.104Z"
   },
   {
    "duration": 143,
    "start_time": "2022-11-20T09:44:41.206Z"
   },
   {
    "duration": 136,
    "start_time": "2022-11-20T09:44:56.744Z"
   },
   {
    "duration": 151,
    "start_time": "2022-11-20T09:45:28.809Z"
   },
   {
    "duration": 162,
    "start_time": "2022-11-20T09:45:32.386Z"
   },
   {
    "duration": 172,
    "start_time": "2022-11-20T09:45:46.382Z"
   },
   {
    "duration": 137,
    "start_time": "2022-11-20T09:45:48.845Z"
   },
   {
    "duration": 138,
    "start_time": "2022-11-20T09:47:17.638Z"
   },
   {
    "duration": 134,
    "start_time": "2022-11-20T09:52:53.132Z"
   },
   {
    "duration": 134,
    "start_time": "2022-11-20T09:52:57.274Z"
   },
   {
    "duration": 138,
    "start_time": "2022-11-20T09:53:07.351Z"
   },
   {
    "duration": 251,
    "start_time": "2022-11-20T09:53:11.872Z"
   },
   {
    "duration": 49,
    "start_time": "2022-11-20T09:55:12.287Z"
   },
   {
    "duration": 162,
    "start_time": "2022-11-20T09:55:16.694Z"
   },
   {
    "duration": 241,
    "start_time": "2022-11-20T09:58:17.383Z"
   },
   {
    "duration": 140,
    "start_time": "2022-11-20T09:58:41.929Z"
   },
   {
    "duration": 6,
    "start_time": "2022-11-20T09:58:54.725Z"
   },
   {
    "duration": 10,
    "start_time": "2022-11-20T09:58:55.177Z"
   },
   {
    "duration": 6,
    "start_time": "2022-11-20T09:58:55.399Z"
   },
   {
    "duration": 5,
    "start_time": "2022-11-20T09:58:55.792Z"
   },
   {
    "duration": 6,
    "start_time": "2022-11-20T09:58:56.199Z"
   },
   {
    "duration": 134,
    "start_time": "2022-11-20T09:58:57.001Z"
   },
   {
    "duration": 128,
    "start_time": "2022-11-20T10:02:14.172Z"
   },
   {
    "duration": 6,
    "start_time": "2022-11-20T10:02:15.336Z"
   },
   {
    "duration": 4,
    "start_time": "2022-11-20T10:02:15.549Z"
   },
   {
    "duration": 12,
    "start_time": "2022-11-20T10:02:16.341Z"
   },
   {
    "duration": 8,
    "start_time": "2022-11-20T10:02:16.595Z"
   },
   {
    "duration": 14,
    "start_time": "2022-11-20T10:02:17.211Z"
   },
   {
    "duration": 11,
    "start_time": "2022-11-20T10:02:18.443Z"
   },
   {
    "duration": 5,
    "start_time": "2022-11-20T10:02:19.670Z"
   },
   {
    "duration": 2,
    "start_time": "2022-11-20T10:02:19.893Z"
   },
   {
    "duration": 6,
    "start_time": "2022-11-20T10:02:20.405Z"
   },
   {
    "duration": 7,
    "start_time": "2022-11-20T10:02:20.643Z"
   },
   {
    "duration": 6,
    "start_time": "2022-11-20T10:02:21.090Z"
   },
   {
    "duration": 3,
    "start_time": "2022-11-20T10:02:22.214Z"
   },
   {
    "duration": 12,
    "start_time": "2022-11-20T10:02:24.621Z"
   },
   {
    "duration": 20,
    "start_time": "2022-11-20T10:02:25.148Z"
   },
   {
    "duration": 1438,
    "start_time": "2022-11-20T10:02:49.014Z"
   },
   {
    "duration": 173,
    "start_time": "2022-11-20T10:03:46.397Z"
   },
   {
    "duration": 8,
    "start_time": "2022-11-20T10:03:49.287Z"
   },
   {
    "duration": 3,
    "start_time": "2022-11-20T10:04:01.671Z"
   },
   {
    "duration": 9,
    "start_time": "2022-11-20T10:04:01.970Z"
   },
   {
    "duration": 5,
    "start_time": "2022-11-20T10:04:33.431Z"
   },
   {
    "duration": 3,
    "start_time": "2022-11-20T10:05:39.244Z"
   },
   {
    "duration": 5,
    "start_time": "2022-11-20T10:07:39.955Z"
   },
   {
    "duration": 6,
    "start_time": "2022-11-20T10:07:48.428Z"
   },
   {
    "duration": 12,
    "start_time": "2022-11-20T10:07:48.675Z"
   },
   {
    "duration": 5,
    "start_time": "2022-11-20T10:07:48.905Z"
   },
   {
    "duration": 2401,
    "start_time": "2022-11-20T10:10:07.492Z"
   },
   {
    "duration": 10,
    "start_time": "2022-11-20T10:11:57.897Z"
   },
   {
    "duration": 3,
    "start_time": "2022-11-20T10:12:04.701Z"
   },
   {
    "duration": 4,
    "start_time": "2022-11-20T10:12:04.992Z"
   },
   {
    "duration": 9,
    "start_time": "2022-11-20T10:12:05.214Z"
   },
   {
    "duration": 2609,
    "start_time": "2022-11-20T10:12:28.888Z"
   },
   {
    "duration": 2,
    "start_time": "2022-11-20T10:12:31.499Z"
   },
   {
    "duration": 12,
    "start_time": "2022-11-20T10:12:31.503Z"
   },
   {
    "duration": 11,
    "start_time": "2022-11-20T10:12:31.517Z"
   },
   {
    "duration": 3,
    "start_time": "2022-11-20T10:13:14.667Z"
   },
   {
    "duration": 3,
    "start_time": "2022-11-20T10:14:18.872Z"
   },
   {
    "duration": 3,
    "start_time": "2022-11-20T10:29:12.849Z"
   },
   {
    "duration": 44,
    "start_time": "2022-11-20T10:35:07.917Z"
   },
   {
    "duration": 3,
    "start_time": "2022-11-20T10:37:41.680Z"
   },
   {
    "duration": 8,
    "start_time": "2022-11-20T10:41:44.916Z"
   },
   {
    "duration": 4,
    "start_time": "2022-11-20T10:42:25.982Z"
   },
   {
    "duration": 14,
    "start_time": "2022-11-20T10:42:39.580Z"
   },
   {
    "duration": 2308,
    "start_time": "2022-11-20T10:42:58.835Z"
   },
   {
    "duration": 4,
    "start_time": "2022-11-20T10:46:47.344Z"
   },
   {
    "duration": 3,
    "start_time": "2022-11-20T10:47:50.420Z"
   },
   {
    "duration": 90527,
    "start_time": "2022-11-20T10:47:50.650Z"
   },
   {
    "duration": 2,
    "start_time": "2022-11-20T10:49:21.179Z"
   },
   {
    "duration": 30,
    "start_time": "2022-11-20T10:49:21.182Z"
   },
   {
    "duration": 702,
    "start_time": "2022-11-20T10:49:21.215Z"
   },
   {
    "duration": 29778,
    "start_time": "2022-11-20T14:39:09.340Z"
   },
   {
    "duration": 2115,
    "start_time": "2022-11-20T14:39:39.120Z"
   },
   {
    "duration": 1274,
    "start_time": "2022-11-20T14:39:41.237Z"
   },
   {
    "duration": 4,
    "start_time": "2022-11-20T14:39:42.513Z"
   },
   {
    "duration": 175,
    "start_time": "2022-11-20T14:39:42.518Z"
   },
   {
    "duration": 12,
    "start_time": "2022-11-20T14:39:42.694Z"
   },
   {
    "duration": 45,
    "start_time": "2022-11-20T14:39:42.707Z"
   },
   {
    "duration": 124,
    "start_time": "2022-11-20T14:39:42.754Z"
   },
   {
    "duration": 130,
    "start_time": "2022-11-20T14:39:42.880Z"
   },
   {
    "duration": 113,
    "start_time": "2022-11-20T14:39:43.014Z"
   },
   {
    "duration": 183,
    "start_time": "2022-11-20T14:39:43.129Z"
   },
   {
    "duration": 159,
    "start_time": "2022-11-20T14:39:43.314Z"
   },
   {
    "duration": 125,
    "start_time": "2022-11-20T14:39:43.474Z"
   },
   {
    "duration": 12,
    "start_time": "2022-11-20T14:39:43.601Z"
   },
   {
    "duration": 14,
    "start_time": "2022-11-20T14:39:43.614Z"
   },
   {
    "duration": 11,
    "start_time": "2022-11-20T14:39:43.629Z"
   },
   {
    "duration": 24,
    "start_time": "2022-11-20T14:39:43.642Z"
   },
   {
    "duration": 22,
    "start_time": "2022-11-20T14:39:43.667Z"
   },
   {
    "duration": 143,
    "start_time": "2022-11-20T14:39:43.690Z"
   },
   {
    "duration": 3,
    "start_time": "2022-11-20T14:39:43.835Z"
   },
   {
    "duration": 34,
    "start_time": "2022-11-20T14:39:43.839Z"
   },
   {
    "duration": 23,
    "start_time": "2022-11-20T14:39:43.875Z"
   },
   {
    "duration": 27,
    "start_time": "2022-11-20T14:39:43.899Z"
   },
   {
    "duration": 20,
    "start_time": "2022-11-20T14:39:43.928Z"
   },
   {
    "duration": 17,
    "start_time": "2022-11-20T14:39:43.949Z"
   },
   {
    "duration": 24,
    "start_time": "2022-11-20T14:39:43.967Z"
   },
   {
    "duration": 29,
    "start_time": "2022-11-20T14:39:43.993Z"
   },
   {
    "duration": 16,
    "start_time": "2022-11-20T14:39:44.026Z"
   },
   {
    "duration": 34,
    "start_time": "2022-11-20T14:39:44.043Z"
   },
   {
    "duration": 47,
    "start_time": "2022-11-20T14:39:44.078Z"
   },
   {
    "duration": 23,
    "start_time": "2022-11-20T14:39:44.127Z"
   },
   {
    "duration": 34,
    "start_time": "2022-11-20T14:39:44.151Z"
   },
   {
    "duration": 52,
    "start_time": "2022-11-20T14:39:44.186Z"
   },
   {
    "duration": 1251,
    "start_time": "2022-11-20T14:39:44.240Z"
   },
   {
    "duration": 126,
    "start_time": "2022-11-20T14:39:45.493Z"
   },
   {
    "duration": 9,
    "start_time": "2022-11-20T14:39:45.621Z"
   },
   {
    "duration": 19,
    "start_time": "2022-11-20T14:39:45.632Z"
   },
   {
    "duration": 31,
    "start_time": "2022-11-20T14:39:45.653Z"
   },
   {
    "duration": 14,
    "start_time": "2022-11-20T14:39:45.686Z"
   },
   {
    "duration": 52,
    "start_time": "2022-11-20T14:39:45.702Z"
   },
   {
    "duration": 10,
    "start_time": "2022-11-20T14:39:45.755Z"
   },
   {
    "duration": 21,
    "start_time": "2022-11-20T14:39:45.766Z"
   },
   {
    "duration": 23,
    "start_time": "2022-11-20T14:39:45.789Z"
   },
   {
    "duration": 2219,
    "start_time": "2022-11-20T14:39:45.814Z"
   },
   {
    "duration": 3,
    "start_time": "2022-11-20T14:39:48.034Z"
   },
   {
    "duration": 24,
    "start_time": "2022-11-20T14:39:48.038Z"
   },
   {
    "duration": 4,
    "start_time": "2022-11-20T14:39:48.064Z"
   },
   {
    "duration": 6,
    "start_time": "2022-11-20T14:39:48.070Z"
   },
   {
    "duration": 10,
    "start_time": "2022-11-20T14:43:44.189Z"
   },
   {
    "duration": 3,
    "start_time": "2022-11-20T14:45:53.193Z"
   },
   {
    "duration": 71,
    "start_time": "2022-11-20T14:49:35.687Z"
   },
   {
    "duration": 96,
    "start_time": "2022-11-20T14:51:25.096Z"
   },
   {
    "duration": 8,
    "start_time": "2022-11-20T14:51:25.286Z"
   },
   {
    "duration": 4,
    "start_time": "2022-11-20T14:51:32.618Z"
   },
   {
    "duration": 9,
    "start_time": "2022-11-20T14:51:32.832Z"
   },
   {
    "duration": 5,
    "start_time": "2022-11-20T14:51:33.035Z"
   },
   {
    "duration": 2202,
    "start_time": "2022-11-20T14:51:33.959Z"
   },
   {
    "duration": 2,
    "start_time": "2022-11-20T14:51:36.162Z"
   },
   {
    "duration": 7,
    "start_time": "2022-11-20T14:51:36.165Z"
   },
   {
    "duration": 5,
    "start_time": "2022-11-20T14:51:36.173Z"
   },
   {
    "duration": 4,
    "start_time": "2022-11-20T14:51:36.180Z"
   },
   {
    "duration": 4,
    "start_time": "2022-11-20T14:51:36.185Z"
   },
   {
    "duration": 86720,
    "start_time": "2022-11-20T14:51:36.190Z"
   },
   {
    "duration": 4,
    "start_time": "2022-11-20T14:53:02.912Z"
   },
   {
    "duration": 14,
    "start_time": "2022-11-20T14:53:02.917Z"
   },
   {
    "duration": 193,
    "start_time": "2022-11-20T14:53:02.933Z"
   },
   {
    "duration": 67123,
    "start_time": "2022-11-20T14:53:03.213Z"
   },
   {
    "duration": 49,
    "start_time": "2022-11-20T14:54:10.338Z"
   },
   {
    "duration": 3,
    "start_time": "2022-11-20T14:54:10.389Z"
   },
   {
    "duration": 48,
    "start_time": "2022-11-20T14:54:10.394Z"
   },
   {
    "duration": 6,
    "start_time": "2022-11-20T14:54:10.444Z"
   },
   {
    "duration": 95812,
    "start_time": "2022-11-20T14:54:10.454Z"
   },
   {
    "duration": 32,
    "start_time": "2022-11-20T14:55:46.268Z"
   },
   {
    "duration": 44,
    "start_time": "2022-11-20T14:55:46.302Z"
   },
   {
    "duration": 102,
    "start_time": "2022-11-20T14:55:46.485Z"
   },
   {
    "duration": 46,
    "start_time": "2022-11-20T14:55:46.589Z"
   }
  ],
  "kernelspec": {
   "display_name": "Python 3 (ipykernel)",
   "language": "python",
   "name": "python3"
  },
  "language_info": {
   "codemirror_mode": {
    "name": "ipython",
    "version": 3
   },
   "file_extension": ".py",
   "mimetype": "text/x-python",
   "name": "python",
   "nbconvert_exporter": "python",
   "pygments_lexer": "ipython3",
   "version": "3.9.12"
  },
  "toc": {
   "base_numbering": 1,
   "nav_menu": {},
   "number_sections": true,
   "sideBar": true,
   "skip_h1_title": true,
   "title_cell": "Содержание",
   "title_sidebar": "Contents",
   "toc_cell": true,
   "toc_position": {},
   "toc_section_display": true,
   "toc_window_display": true
  }
 },
 "nbformat": 4,
 "nbformat_minor": 2
}
